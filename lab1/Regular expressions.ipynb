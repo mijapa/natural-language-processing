{
 "cells": [
  {
   "cell_type": "markdown",
   "metadata": {
    "collapsed": true,
    "pycharm": {
     "name": "#%% md\n"
    }
   },
   "source": [
    "# Regular expressions (aka regexps)\n",
    "\n",
    "The task is concentrated on using regular expressions for extracting basic information from textual data.\n",
    "You will get more familiar with the regexp features that are particularly important in natural language processing.\n",
    "\n",
    "## Task\n",
    "\n",
    "A dataset containing texts of Polish statutory law is available at [http://apohllo.pl/text/ustawy.tar.gz](http://apohllo.pl/text/ustawy.tar.gz).\n",
    "\n",
    "It contains texts of Polish bills, e.g.:\n",
    "\n",
    "```\n",
    "Tekst ustawy przyjęty przez Senat bez poprawek\n",
    "\n",
    "USTAWA\n",
    "z\n",
    "dnia 8 listopada 2013 r.\n",
    "\n",
    "o\n",
    "zmianie niektórych ustaw w związku z realizacją ustawy budżetowej[1])\n",
    "\n",
    "Art.\n",
    "1.\n",
    "W\n",
    "ustawie z dnia 4 marca 1994 r. o zakładowym funduszu świadczeń socjalnych (Dz. U.\n",
    "z 2012 r. poz. 592, z późn. zm.[2]))\n",
    "po art. 5b dodaje się art. 5c w brzmieniu:\n",
    "„Art. 5c. W 2014 r. przez\n",
    "przeciętne wynagrodzenie miesięczne w gospodarce narodowej, o którym mowa w art.\n",
    "5 ust. 2, należy rozumieć przeciętne wynagrodzenie miesięczne w gospodarce narodowej\n",
    "w drugim półroczu 2010 r. ogłoszone przez Prezesa Głównego Urzędu Statystycznego\n",
    "na podstawie art. 5 ust. 7.”.\n",
    "```\n",
    "\n",
    "Task objectives:\n",
    "\n",
    "1. For each bill compute the number of the following amendments present in the bill:\n",
    "   * addition of a unit (e.g. **dodaje się ust. 5a**),\n",
    "   * removal of a unit (e.g. **w art. 10 ust. 1 pkt 8 skreśla się**),\n",
    "   * change of a unit (e.g. **art. 5 otrzymuje brzmienie**).\n",
    "2. Note that other types of changes, e.g. **po wyrazach \"na dofinansowanie\" dodaje się wyrazy \" , z zastrzeżeniem art. 21a,\"**, must not be included in the result."
   ]
  },
  {
   "cell_type": "code",
   "execution_count": 1,
   "outputs": [
    {
     "name": "stdout",
     "output_type": "stream",
     "text": [
      "\"dodaje\"\n",
      "\n",
      "All matches: 6514\n",
      "\n",
      "\"skreśla\"\n",
      "\n",
      "All matches: 1471\n",
      "\n",
      "\"otrzymuje\"\n",
      "\n",
      "All matches: 8587\n",
      "\n",
      "          nazwa   rok  ilosc\n",
      "0   \"otrzymuje\"  1996    5.0\n",
      "0   \"otrzymuje\"  2003   55.0\n",
      "0   \"otrzymuje\"  2000    5.0\n",
      "0   \"otrzymuje\"  2003   52.0\n",
      "0   \"otrzymuje\"  2004   22.0\n",
      "..          ...   ...    ...\n",
      "0      \"dodaje\"  1995    2.0\n",
      "0      \"dodaje\"  1997    6.0\n",
      "0      \"dodaje\"  2001    4.0\n",
      "0      \"dodaje\"  2001    3.0\n",
      "0      \"dodaje\"  2004    3.0\n",
      "\n",
      "[1674 rows x 3 columns]\n"
     ]
    }
   ],
   "source": [
    "import regex\n",
    "import os\n",
    "import pandas as pd\n",
    "\n",
    "def find_in_files(reg, nazwa, wyniki):\n",
    "    countAll = 0\n",
    "    directory = '../ustawy/'\n",
    "    fileList = os.listdir(os.getcwd() + '/' + directory)\n",
    "\n",
    "    for filename in fileList:\n",
    "        with open(os.path.join(directory + filename), 'r') as file:\n",
    "            year, _ = filename.split('_')\n",
    "            count = find_in_file(file, filename, reg)\n",
    "            if count > 0:\n",
    "                row = pd.DataFrame({'nazwa' : [nazwa], 'rok':[year], 'ilosc':[count]})\n",
    "                wyniki = pd.concat([row, wyniki])\n",
    "                # print('plik {}'.format(filename))\n",
    "                # print(nazwa + ' {}\\n'.format(count))\n",
    "            countAll += count\n",
    "\n",
    "    print(\"\\nAll matches: {}\\n\".format(countAll))\n",
    "    return countAll, wyniki\n",
    "\n",
    "\n",
    "def find_in_file(file, filename, reg):\n",
    "    infile = file.read()\n",
    "    matches = regex.finditer(reg, infile, regex.MULTILINE | regex.IGNORECASE)\n",
    "    count = 0\n",
    "    for matchNum, match in enumerate(matches, start=1):\n",
    "        count += 1\n",
    "        # print(\"Match {matchNum} was found at {start}-{end}: {match}\".format(matchNum=matchNum,\n",
    "        #                                                                     start=match.start(),\n",
    "        #                                                                     end=match.end(),\n",
    "        #                                                                     match=match.group()))\n",
    "\n",
    "        # for groupNum in range(0, len(match.groups())):\n",
    "        #     groupNum = groupNum + 1\n",
    "        #\n",
    "        #     print(\"Group {groupNum} found at {start}-{end}: {group}\".format(groupNum=groupNum,\n",
    "        #                                                                     start=match.start(groupNum),\n",
    "        #                                                                     end=match.end(groupNum),\n",
    "        #                                                                     group=match.group(groupNum)))\n",
    "    return count\n",
    "\n",
    "wyniki = pd.DataFrame({'rok' :[], 'nazwa' : [], 'ilosc' :[]})\n",
    "units = r\"((zdani[ea]|zd\\.?)|(paragrafy?|par\\.?|§)|(ustępy?|ust\\.?)|(artykuły?|art\\.?)|(rozdziały?|rozdz\\.?)|(punkty?|pkt)|(podpunkty?|ppkt)|(liter[eęy]|lit\\.?)|(tiret))\"\n",
    "\n",
    "nazwa = '\"dodaje\"'\n",
    "reg = r\"(dodaje)\\W*(si[eę])?\\W*\" + units\n",
    "print(nazwa)\n",
    "\n",
    "countAll, wyniki, = find_in_files(reg, nazwa, wyniki)\n",
    "\n",
    "nazwa = '\"skreśla\"'\n",
    "reg = r\"(skreśla)\\W*(si[eę])?\\W*\" + units\n",
    "print(nazwa)\n",
    "\n",
    "countAll, wyniki, = find_in_files(reg, nazwa, wyniki)\n",
    "\n",
    "nazwa = '\"otrzymuje\"'\n",
    "reg = units + r\"\\W*[0-9]\\W*i?\\W*[0-9]?\\W*?(otrzymuj[eą])\\W*(brzmienie)\"\n",
    "print(nazwa)\n",
    "\n",
    "countAll, wyniki = find_in_files(reg, nazwa, wyniki)\n",
    "\n",
    "print(wyniki)"
   ],
   "metadata": {
    "collapsed": false,
    "pycharm": {
     "name": "#%%\n"
    }
   }
  },
  {
   "cell_type": "markdown",
   "source": [
    "3. Plot results from point 1 showing how the percentage of amendments of a given type changed in the consecutive years."
   ],
   "metadata": {
    "collapsed": false,
    "pycharm": {
     "name": "#%% md\n"
    }
   }
  },
  {
   "cell_type": "code",
   "execution_count": 2,
   "outputs": [],
   "source": [
    "s = wyniki.groupby([\"rok\", \"nazwa\"]).agg({'ilosc':'sum'})\n",
    "s['percentage']= s['ilosc'] / s.groupby('rok')['ilosc'].sum() * 100"
   ],
   "metadata": {
    "collapsed": false,
    "pycharm": {
     "name": "#%%\n"
    }
   }
  },
  {
   "cell_type": "code",
   "execution_count": 3,
   "outputs": [
    {
     "data": {
      "text/plain": "<Figure size 1440x576 with 1 Axes>",
      "image/png": "[encoded data removed]"
     },
     "metadata": {
      "needs_background": "light"
     },
     "output_type": "display_data"
    }
   ],
   "source": [
    "g = s.unstack().plot.bar(y='percentage')\n",
    "g.set(ylabel='procent')\n",
    "g.set_title(\"Procentowa ilość poprawek danego typu w kolejnych latach\")\n",
    "g.figure.set_size_inches(20,8)"
   ],
   "metadata": {
    "collapsed": false,
    "pycharm": {
     "name": "#%%\n"
    }
   }
  },
  {
   "cell_type": "markdown",
   "source": [
    "> Niestety obserwujemy ciągły rozrost treści ustaw. Szczególnie w ostatnich latach analizowanego okresu bardzo mało jest skreśleń.\n",
    "\n",
    "4. Compute the total number of occurrences of the word **ustawa** in any inflectional form (*ustawa*, *ustawie*, *ustawę*, etc.)\n",
    "   and all spelling forms (*ustawa*, *Ustawa*, *USTAWA*), excluding other words with the same prefix (e.g. *ustawić*)."
   ],
   "metadata": {
    "collapsed": false,
    "pycharm": {
     "name": "#%% md\n"
    }
   }
  },
  {
   "cell_type": "code",
   "execution_count": 4,
   "outputs": [
    {
     "name": "stdout",
     "output_type": "stream",
     "text": [
      "\n",
      "All matches: 24862\n",
      "\n"
     ]
    }
   ],
   "source": [
    "ustawa = r\"(ustawa|ustawy|ustawie|ustawę|ustawą|ustawo|ustaw|ustawom|ustawami|ustawach)\\b\"\n",
    "\n",
    "wyniki = wyniki.drop(wyniki.index, inplace=True)\n",
    "nazwa4 = 'ustawa'\n",
    "reg = ustawa\n",
    "count_all_4, wyniki = find_in_files(reg, nazwa4, wyniki)"
   ],
   "metadata": {
    "collapsed": false,
    "pycharm": {
     "name": "#%%\n"
    }
   }
  },
  {
   "cell_type": "markdown",
   "source": [
    "5. Compute the total number of occurrences of the same word (same conditions), followed by **z dnia** expression."
   ],
   "metadata": {
    "collapsed": false,
    "pycharm": {
     "name": "#%% md\n"
    }
   }
  },
  {
   "cell_type": "code",
   "execution_count": 5,
   "outputs": [
    {
     "name": "stdout",
     "output_type": "stream",
     "text": [
      "\n",
      "All matches: 8578\n",
      "\n"
     ]
    }
   ],
   "source": [
    "ustawa = r\"(ustawa|ustawy|ustawie|ustawę|ustawą|ustawo|ustaw|ustawom|ustawami|ustawach)\\b\\W\\W*\\b(z\\W*dnia)\"\n",
    "\n",
    "nazwa5 = 'ustawa z dnia'\n",
    "reg = ustawa\n",
    "count_all_5, wyniki = find_in_files(reg, nazwa5, wyniki)"
   ],
   "metadata": {
    "collapsed": false,
    "pycharm": {
     "name": "#%%\n"
    }
   }
  },
  {
   "cell_type": "markdown",
   "source": [
    "6. As above, but **not** followed by **z dnia** expression. Is the result correct (result 4 =? result 5 + result 6)?"
   ],
   "metadata": {
    "collapsed": false,
    "pycharm": {
     "name": "#%% md\n"
    }
   }
  },
  {
   "cell_type": "code",
   "execution_count": 6,
   "outputs": [
    {
     "name": "stdout",
     "output_type": "stream",
     "text": [
      "\n",
      "All matches: 16284\n",
      "\n",
      "WYNIKI SIĘ ZGADZAJĄ!\n"
     ]
    }
   ],
   "source": [
    "ustawa = r\"(ustawa|ustawy|ustawie|ustawę|ustawą|ustawo|ustaw|ustawom|ustawami|ustawach)(\\b\\W\\W*\\b(?!(z\\W*dnia))|\\.|\\,)\"\n",
    "\n",
    "nazwa6 = 'ustawa ! z dnia'\n",
    "reg = ustawa\n",
    "count_all_6, wyniki = find_in_files(reg, nazwa6, wyniki)\n",
    "\n",
    "calc = count_all_5+count_all_6-count_all_4\n",
    "if not calc:\n",
    "    print(\"WYNIKI SIĘ ZGADZAJĄ!\")\n",
    "else:\n",
    "    print(\"Wyniki różnią się o: {}\".format(calc))"
   ],
   "metadata": {
    "collapsed": false,
    "pycharm": {
     "name": "#%%\n"
    }
   }
  },
  {
   "cell_type": "markdown",
   "source": [
    "7. Compute the total number of occurrences of the word **ustawa** in any inflectional form, excluding occurrences\n",
    "   following **o zmianie** expression."
   ],
   "metadata": {
    "collapsed": false
   }
  },
  {
   "cell_type": "code",
   "execution_count": 7,
   "outputs": [
    {
     "name": "stdout",
     "output_type": "stream",
     "text": [
      "\n",
      "All matches: 24827\n",
      "\n"
     ]
    }
   ],
   "source": [
    "ustawa = r\"(ustawa|ustawy|ustawie|ustawę|ustawą|ustawo|ustaw|ustawom|ustawami|ustawach)(\\b\\W\\W*\\b(?!(o\\W*zmianie))|\\.|\\,)\"\n",
    "\n",
    "nazwa7 = 'ustawa ! o zmianie'\n",
    "reg = ustawa\n",
    "count_all_7, wyniki = find_in_files(reg, nazwa7, wyniki)"
   ],
   "metadata": {
    "collapsed": false,
    "pycharm": {
     "name": "#%%\n"
    }
   }
  },
  {
   "cell_type": "markdown",
   "source": [
    "> Zwykle między \"ustawa\", a \"o zmianie\" występuje np.: z dnia, dlatego obserwujemy mało wyników \"ustawa o zmianie\""
   ],
   "metadata": {
    "collapsed": false,
    "pycharm": {
     "name": "#%% md\n"
    }
   }
  },
  {
   "cell_type": "markdown",
   "source": [
    "8. Plot results 4-7 using a bar chart."
   ],
   "metadata": {
    "collapsed": false
   }
  },
  {
   "cell_type": "code",
   "execution_count": 8,
   "outputs": [
    {
     "name": "stdout",
     "output_type": "stream",
     "text": [
      "                 nazwa   rok  ilosc\n",
      "0   ustawa ! o zmianie  1997      4\n",
      "0   ustawa ! o zmianie  2000      4\n",
      "0   ustawa ! o zmianie  1996      4\n",
      "0   ustawa ! o zmianie  2001     11\n",
      "0   ustawa ! o zmianie  2003    280\n",
      "..                 ...   ...    ...\n",
      "0               ustawa  2001     16\n",
      "0               ustawa  1994      4\n",
      "0               ustawa  2000     17\n",
      "0               ustawa  2001      8\n",
      "0               ustawa  2004     13\n",
      "\n",
      "[4667 rows x 3 columns]\n"
     ]
    }
   ],
   "source": [
    "print(wyniki)"
   ],
   "metadata": {
    "collapsed": false,
    "pycharm": {
     "name": "#%%\n"
    }
   }
  },
  {
   "cell_type": "code",
   "execution_count": 9,
   "outputs": [
    {
     "data": {
      "text/plain": "<Figure size 1440x576 with 1 Axes>",
      "image/png": "[encoded data removed]"
     },
     "metadata": {
      "needs_background": "light"
     },
     "output_type": "display_data"
    }
   ],
   "source": [
    "s = wyniki.groupby([\"nazwa\"]).agg({'ilosc':'sum'})\n",
    "\n",
    "g = s.unstack().plot.bar(y='ilosc')\n",
    "g.set(ylabel='Ilość')\n",
    "\n",
    "g.set_title(\"Procentowa ilość poprawek danego typu w kolejnych latach\")\n",
    "g.figure.set_size_inches(20,8)"
   ],
   "metadata": {
    "collapsed": false,
    "pycharm": {
     "name": "#%%\n"
    }
   }
  },
  {
   "cell_type": "markdown",
   "source": [
    "> Wyników \"! o zmianie\" jest prawie tak dużo jak dla \"ustawa\".\n",
    "> Wyniki dla \"ustawa z dnia\" i \"ustawa ! z dnia\" sumują się.\n",
    "\n",
    "## Hints\n",
    "\n",
    "* Some programming languages allow to use Unicode classes in regular expressions, e.g.\n",
    "  * `\\p{L}` - letters from any alphabet (e.g. a, ą, ć, ü, カ)\n",
    "  * `\\p{Ll}` - small letters from any alphabet\n",
    "  * `\\p{Lu}` - capital letters from any alphabet\n",
    "* Not all regular expressions engines support Unicode classes, e.g. `re` from Python does not.\n",
    "  Yet you can use `regex` library (`pip install regex`), which has much more features.\n",
    "* Regular expressions can include positive and negative lookahead and lookbehind constructions, e.g.\n",
    "  * *positive lookahead* - `(\\w+)(?= has a cat)` will match string `Ann has a cat`, but it will match `Ann` only.\n",
    "  * *negative lookbehind* - `(?<!New )(York)`, will match `Yorkshire` but not `New York`.\n",
    "* `\\b` matches a word boarder. Regexp `fish` will match `jellyfish`, but `\\bfish\\b` will only match `fish`.\n",
    "  In the case of Python you should use either `'\\\\bfish\\\\b'` or `r'\\bfish\\b'`.\n",
    "* `\\b` is dependent on what is understood by \"word\". For instance in Ruby polish diacritics are not treated as parts of\n",
    "  a word, thus `\\bpsu\\b` will match both `psu` and `psuć`, since `ć` is a non-word letter in Ruby.\n",
    "* Some languages, e.g. Ruby, support regexp match operator as well as regexp literals (`=~`, /fish/ respectively\n",
    "  in the case of Ruby and Perl). Notably Python does not support either.\n",
    "* You should be very careful when copying regexps from Internet - different languages and even different versions of the\n",
    "  same language may interpret them differently, so make sure to always test them on a large set of diversified examples."
   ],
   "metadata": {
    "collapsed": false,
    "pycharm": {
     "name": "#%% md\n"
    }
   }
  }
 ],
 "metadata": {
  "kernelspec": {
   "display_name": "Python 3",
   "language": "python",
   "name": "python3"
  },
  "language_info": {
   "codemirror_mode": {
    "name": "ipython",
    "version": 2
   },
   "file_extension": ".py",
   "mimetype": "text/x-python",
   "name": "python",
   "nbconvert_exporter": "python",
   "pygments_lexer": "ipython2",
   "version": "2.7.6"
  }
 },
 "nbformat": 4,
 "nbformat_minor": 0
}