{
 "cells": [
  {
   "cell_type": "markdown",
   "metadata": {
    "pycharm": {
     "name": "#%% md\n"
    }
   },
   "source": [
    "## Install ElasticSearch (ES).\n",
    "### install elasticsearch on Ubunt\n",
    "https://www.elastic.co/guide/en/elasticsearch/reference/current/deb.html\n",
    "sudo apt-get install elasticsearch=7.9.2\n",
    "\n",
    "## start/stop\n",
    "sudo -i service elasticsearch start\n",
    "sudo -i service elasticsearch stop\n",
    "\n",
    "## check if running\n",
    "curl -X GET \"localhost:9200/?pretty\""
   ]
  },
  {
   "cell_type": "code",
   "execution_count": 1,
   "metadata": {
    "pycharm": {
     "name": "#%%\n"
    }
   },
   "outputs": [
    {
     "name": "stdout",
     "output_type": "stream",
     "text": [
      "{'name': 'micha-ThinkPad-E570', 'cluster_name': 'elasticsearch', 'cluster_uuid': 'VOsFF90kQr2uZSI0euCoVg', 'version': {'number': '7.9.2', 'build_flavor': 'default', 'build_type': 'deb', 'build_hash': 'd34da0ea4a966c4e49417f2da2f244e3e97b4e6e', 'build_date': '2020-09-23T00:45:33.626720Z', 'build_snapshot': False, 'lucene_version': '8.6.2', 'minimum_wire_compatibility_version': '6.8.0', 'minimum_index_compatibility_version': '6.0.0-beta1'}, 'tagline': 'You Know, for Search'}\n"
     ]
    }
   ],
   "source": [
    "import json\n",
    "import requests\n",
    "response = requests.get('http://localhost:9200/?pretty')\n",
    "print(response.json())"
   ]
  },
  {
   "cell_type": "markdown",
   "metadata": {
    "pycharm": {
     "name": "#%% md\n"
    }
   },
   "source": [
    "## Install an ES plugin for Polish https://github.com/allegro/elasticsearch-analysis-morfologik\n",
    "## install Morfologik in eleasticsearch directory - use the same version as elasticsearch\n",
    "cd /usr/share/elasticsearch\n",
    "sudo bin/elasticsearch-plugin install pl.allegro.tech.elasticsearch.plugin:elasticsearch-analysis-morfologik:7.9.2\n",
    "\n",
    "## restart\n",
    "sudo -i service elasticsearch start\n",
    "sudo -i service elasticsearch stop\n",
    "\n",
    "## check if working\n",
    "curl -XGET \"http://localhost:9200/_analyze?pretty\" -H 'Content-Type: application/json' -d '{ \"analyzer\": \"morfologik\", \"text\": \"jestem\" }'"
   ]
  },
  {
   "cell_type": "code",
   "execution_count": 1,
   "metadata": {
    "pycharm": {
     "name": "#%%\n"
    }
   },
   "outputs": [
    {
     "ename": "NameError",
     "evalue": "name 'requests' is not defined",
     "output_type": "error",
     "traceback": [
      "\u001B[0;31m---------------------------------------------------------------------------\u001B[0m",
      "\u001B[0;31mNameError\u001B[0m                                 Traceback (most recent call last)",
      "\u001B[0;32m<ipython-input-1-34744782acfe>\u001B[0m in \u001B[0;36m<module>\u001B[0;34m\u001B[0m\n\u001B[1;32m      5\u001B[0m \u001B[0mdata\u001B[0m \u001B[0;34m=\u001B[0m \u001B[0;34m'{ \"analyzer\": \"morfologik\", \"text\": \"jestem\" }'\u001B[0m\u001B[0;34m\u001B[0m\u001B[0;34m\u001B[0m\u001B[0m\n\u001B[1;32m      6\u001B[0m \u001B[0;34m\u001B[0m\u001B[0m\n\u001B[0;32m----> 7\u001B[0;31m \u001B[0mresponse\u001B[0m \u001B[0;34m=\u001B[0m \u001B[0mrequests\u001B[0m\u001B[0;34m.\u001B[0m\u001B[0mpost\u001B[0m\u001B[0;34m(\u001B[0m\u001B[0;34m'http://localhost:9200/_analyze'\u001B[0m\u001B[0;34m,\u001B[0m \u001B[0mheaders\u001B[0m\u001B[0;34m=\u001B[0m\u001B[0mheaders\u001B[0m\u001B[0;34m,\u001B[0m \u001B[0mparams\u001B[0m\u001B[0;34m=\u001B[0m\u001B[0mparams\u001B[0m\u001B[0;34m,\u001B[0m \u001B[0mdata\u001B[0m\u001B[0;34m=\u001B[0m\u001B[0mdata\u001B[0m\u001B[0;34m)\u001B[0m\u001B[0;34m\u001B[0m\u001B[0;34m\u001B[0m\u001B[0m\n\u001B[0m\u001B[1;32m      8\u001B[0m \u001B[0mprint\u001B[0m\u001B[0;34m(\u001B[0m\u001B[0mresponse\u001B[0m\u001B[0;34m.\u001B[0m\u001B[0mjson\u001B[0m\u001B[0;34m(\u001B[0m\u001B[0;34m)\u001B[0m\u001B[0;34m)\u001B[0m\u001B[0;34m\u001B[0m\u001B[0;34m\u001B[0m\u001B[0m\n\u001B[1;32m      9\u001B[0m \u001B[0;34m\u001B[0m\u001B[0m\n",
      "\u001B[0;31mNameError\u001B[0m: name 'requests' is not defined"
     ]
    }
   ],
   "source": [
    "headers = {'Content-Type': 'application/json',}\n",
    "\n",
    "params = (('pretty', ''),)\n",
    "\n",
    "data = '{ \"analyzer\": \"morfologik\", \"text\": \"jestem\" }'\n",
    "\n",
    "response = requests.post('http://localhost:9200/_analyze', headers=headers, params=params, data=data)\n",
    "print(response.json())"
   ]
  },
  {
   "cell_type": "markdown",
   "metadata": {
    "pycharm": {
     "name": "#%% md\n"
    }
   },
   "source": [
    "## Define an ES analyzer for Polish texts containing:\n",
    "        standard tokenizer\n",
    "                      \"tokenizer\": \"standard\"\n",
    "        synonym filter with the following definitions:\n",
    "            kpk - kodeks postępowania karnego\n",
    "            kpc - kodeks postępowania cywilnego\n",
    "            kk - kodeks karny\n",
    "            kc - kodeks cywilny\n",
    "                       \"filter\":{\n",
    "                        \"synonym_filter\":{\n",
    "                            \"type\": \"synonym\",\n",
    "                            \"synonyms\":[\n",
    "                                \"kpk => kodeks postępowania karnego\",\n",
    "                                \"kpc => kodeks postępowania cywilnego\",\n",
    "                                \"kk => kodeks karny\",\n",
    "                                \"kc => kodeks cywilny\"]}}\n",
    "        Morfologik-based lemmatizer\n",
    "                       \"filter\": \"morfologik_stem\"\n",
    "        lowercase filter\n",
    "                       \"filter\": \"lowercase\"\n",
    "\n",
    "## Define an ES index for storing the contents of the legislative acts."
   ]
  },
  {
   "cell_type": "code",
   "execution_count": 3,
   "metadata": {
    "pycharm": {
     "name": "#%%\n"
    }
   },
   "outputs": [
    {
     "name": "stdout",
     "output_type": "stream",
     "text": [
      "{'acknowledged': True, 'shards_acknowledged': True, 'index': 'test_index'}\n",
      "<Response [200]>\n"
     ]
    }
   ],
   "source": [
    "di = {\n",
    "  \"settings\": {\n",
    "    \"analysis\": {\n",
    "      \"analyzer\": {\n",
    "        \"default\": {\n",
    "            \"tokenizer\": \"standard\",\n",
    "            \"filter\": [\"synonym_filter\", \"morfologik_stem\", \"lowercase\"]\n",
    "        }\n",
    "      },\n",
    "        \"filter\":{\n",
    "        \"synonym_filter\":{\n",
    "            \"type\": \"synonym\",\n",
    "            \"synonyms\":[\n",
    "                \"kpk => kodeks postępowania karnego\",\n",
    "                \"kpc => kodeks postępowania cywilnego\",\n",
    "                \"kk => kodeks karny\",\n",
    "                \"kc => kodeks cywilny\"\n",
    "                    ]\n",
    "                }\n",
    "            }\n",
    "    }\n",
    "  }\n",
    "}\n",
    "data = json.dumps(di)\n",
    "response = requests.put('http://localhost:9200/test_index', headers=headers, params=params, data=data)\n",
    "print(response.json())\n",
    "\n",
    "response = requests.post('http://localhost:9200/test_index/_open')\n",
    "print(response)\n"
   ]
  },
  {
   "cell_type": "markdown",
   "metadata": {
    "pycharm": {
     "name": "#%% md\n"
    }
   },
   "source": [
    "## Load the data to the ES index."
   ]
  },
  {
   "cell_type": "code",
   "execution_count": 4,
   "metadata": {
    "pycharm": {
     "name": "#%%\n"
    }
   },
   "outputs": [],
   "source": [
    "import os\n",
    "from elasticsearch import Elasticsearch, helpers\n",
    "\n",
    "es = Elasticsearch(host=\"localhost\", port=9200)"
   ]
  },
  {
   "cell_type": "code",
   "execution_count": 5,
   "metadata": {
    "pycharm": {
     "name": "#%%\n"
    }
   },
   "outputs": [],
   "source": [
    "def load_data():\n",
    "    directory = '../ustawy/'\n",
    "    fileList = os.listdir(os.getcwd() + '/' + directory)\n",
    "\n",
    "    for filename in fileList:\n",
    "        with open(os.path.join(directory + filename), 'r') as file:\n",
    "            infile = file.read()\n",
    "            data = {\n",
    "                \"filename\": filename,\n",
    "                \"payload\" : infile\n",
    "            }\n",
    "            res = es.index(index='test_index', body=data)\n",
    "            # print(res)\n",
    "\n",
    "load_data()\n"
   ]
  },
  {
   "cell_type": "markdown",
   "metadata": {
    "pycharm": {
     "name": "#%% md\n"
    }
   },
   "source": [
    "## Determine the number of legislative acts containing the word ustawa (in any form)."
   ]
  },
  {
   "cell_type": "code",
   "execution_count": 6,
   "metadata": {
    "pycharm": {
     "name": "#%%\n"
    }
   },
   "outputs": [
    {
     "name": "stdout",
     "output_type": "stream",
     "text": [
      "The total number of hits is: 1179\n"
     ]
    }
   ],
   "source": [
    "query = {\"query\":{\n",
    "                \"match\": {\n",
    "                    \"payload\": \"ustawa\"\n",
    "                }\n",
    "            }}\n",
    "res = es.search(index='test_index', body=query)\n",
    "# print(res)\n",
    "print(\"The total number of hits is: {}\".format(res['hits']['total']['value']))"
   ]
  },
  {
   "cell_type": "markdown",
   "metadata": {
    "pycharm": {
     "name": "#%% md\n"
    }
   },
   "source": [
    "## Determine the number of legislative acts containing the words kodeks postępowania cywilnego in the specified order, but in an any inflection form."
   ]
  },
  {
   "cell_type": "code",
   "execution_count": 7,
   "metadata": {
    "pycharm": {
     "name": "#%%\n"
    }
   },
   "outputs": [
    {
     "name": "stdout",
     "output_type": "stream",
     "text": [
      "The total number of hits is: 100\n"
     ]
    }
   ],
   "source": [
    "query = {\"query\":{\n",
    "                \"match_phrase\": {\n",
    "                    \"payload\": \"kodeks postępowania cywilnego\"\n",
    "                }\n",
    "            }}\n",
    "res = es.search(index='test_index', body=query)\n",
    "# print(res)\n",
    "print(\"The total number of hits is: {}\".format(res['hits']['total']['value']))"
   ]
  },
  {
   "cell_type": "markdown",
   "metadata": {},
   "source": [
    "## Determine the number of legislative acts containing the words wchodzi w życie (in any form) allowing for up to 2 additional words in the searched phrase."
   ]
  },
  {
   "cell_type": "code",
   "execution_count": 8,
   "metadata": {
    "pycharm": {
     "name": "#%%\n"
    }
   },
   "outputs": [
    {
     "name": "stdout",
     "output_type": "stream",
     "text": [
      "The total number of hits is: 1175\n"
     ]
    }
   ],
   "source": [
    "query = {\n",
    "  \"query\": {\n",
    "    \"intervals\" : {\n",
    "      \"payload\" : {\n",
    "              \"match\" : {\n",
    "                \"query\" : \"wchodzi w życie\",\n",
    "                \"max_gaps\" : 2\n",
    "        }\n",
    "      }\n",
    "    }\n",
    "  }\n",
    "}\n",
    "res = es.search(index='test_index', body=query)\n",
    "# print(res)\n",
    "print(\"The total number of hits is: {}\".format(res['hits']['total']['value']))"
   ]
  },
  {
   "cell_type": "markdown",
   "metadata": {
    "pycharm": {
     "name": "#%% md\n"
    }
   },
   "source": [
    "## Determine the 10 documents that are the most relevant for the phrase konstytucja."
   ]
  },
  {
   "cell_type": "code",
   "execution_count": 9,
   "metadata": {
    "pycharm": {
     "name": "#%%\n"
    }
   },
   "outputs": [],
   "source": [
    "query = {\n",
    "            \"sort\": [\n",
    "            \"_score\"\n",
    "            ],\n",
    "    \"query\":{\n",
    "                \"match\": {\n",
    "                    \"payload\": \"konstytucja\"\n",
    "}}}\n",
    "res = es.search(index='test_index', body=query)\n",
    "# print(res)"
   ]
  },
  {
   "cell_type": "code",
   "execution_count": 10,
   "metadata": {
    "pycharm": {
     "name": "#%%\n"
    }
   },
   "outputs": [
    {
     "name": "stdout",
     "output_type": "stream",
     "text": [
      "1997_629.txt\n",
      "2000_443.txt\n",
      "1997_604.txt\n",
      "1996_350.txt\n",
      "1997_642.txt\n",
      "2001_23.txt\n",
      "1996_199.txt\n",
      "1999_688.txt\n",
      "1997_681.txt\n",
      "2001_1082.txt\n"
     ]
    }
   ],
   "source": [
    "for hit in res['hits']['hits']:\n",
    "    print(hit['_source']['filename'])\n"
   ]
  },
  {
   "cell_type": "markdown",
   "metadata": {},
   "source": [
    "## Print the excerpts containing the word konstytucja (up to three excerpts per document) from the previous task."
   ]
  },
  {
   "cell_type": "code",
   "execution_count": 11,
   "metadata": {
    "pycharm": {
     "name": "#%%\n"
    }
   },
   "outputs": [],
   "source": [
    "query = {\n",
    "            \"sort\": [\n",
    "            \"_score\"\n",
    "            ],\n",
    "                \"highlight\" : {\n",
    "        \"fields\" : {\n",
    "            \"payload\" : {\"fragment_size\" : 150, \"number_of_fragments\" : 3}}\n",
    "    },\n",
    "    \"query\":{\n",
    "                \"match\": {\n",
    "                    \"payload\": \"konstytucja\"},\n",
    "}}\n",
    "res = es.search(index='test_index', body=query)\n",
    "# print(res)"
   ]
  },
  {
   "cell_type": "code",
   "execution_count": 12,
   "metadata": {
    "pycharm": {
     "name": "#%%\n"
    }
   },
   "outputs": [
    {
     "name": "stdout",
     "output_type": "stream",
     "text": [
      "FILE: 1997_629.txt\n",
      "EXCERPT 1: \n",
      "\n",
      "o zmianie ustawy konstytucyjnej o trybie przygotowania\n",
      "           i uchwalenia <em>Konstytucji</em> Rzeczypospolitej Polskiej\n",
      "EXCERPT 2: \n",
      "\n",
      "W ustawie  konstytucyjnej z  dnia 23 kwietnia 1992 r. o trybie przygotowania i \n",
      "uchwalenia <em>Konstytucji</em> Rzeczypospolitej Polskiej (Dz.U.\n",
      "EXCERPT 3: \n",
      "\n",
      "Zasady, na których opierać się ma <em>Konstytucja</em> mogą\n",
      "                być poddane pod referendum.\n",
      "              2.\n",
      "FILE: 2000_443.txt\n",
      "EXCERPT 1: \n",
      "\n",
      "Ratyfikacji podlegają umowy międzynarodowe, o których mowa w art. 89 ust.\n",
      "  1 i art. 90 <em>Konstytucji</em> Rzeczypospolitej Polskiej, oraz inne umowy\n",
      "  międzynarodowe\n",
      "EXCERPT 2: \n",
      "\n",
      "ma charakter wykonawczy w stosunku do obowiązującej\n",
      "     umowy międzynarodowej i nie wypełnia przesłanek określonych w art. 89\n",
      "     ust. 1 lub art. 90 <em>Konstytucji</em>\n",
      "EXCERPT 3: \n",
      "\n",
      "Rzeczypospolitej Polskiej lub po zawiadomieniu\n",
      "  Sejmu Rzeczypospolitej Polskiej zgodnie z art. 89 ust. 2 <em>Konstytucji</em>\n",
      "  Rzeczypospolitej Polskiej.\n",
      "4.\n",
      "FILE: 1997_604.txt\n",
      "EXCERPT 1: \n",
      "\n",
      "W razie powstania wątpliwości co do zgodności z <em>Konstytucją</em> celów lub \n",
      "   zasad działania partii politycznej określonych w statucie, zgodnie z art. 9\n",
      "EXCERPT 2: \n",
      "\n",
      "Jeżeli Trybunał Konstytucyjny wyda orzeczenie o sprzeczności celów partii \n",
      "   politycznej z <em>Konstytucją</em>, Sąd odmawia wpisu partii do ewidencji.\n",
      " 4.\n",
      "EXCERPT 3: \n",
      "\n",
      "Rozpoznawanie spraw o stwierdzenie sprzeczności z <em>Konstytucją</em> celów lub \n",
      "działalności partii politycznych należy do właściwości Trybunału Konstytucyjnego\n",
      "FILE: 1996_350.txt\n",
      "EXCERPT 1: \n",
      "\n",
      "Za naruszenie <em>Konstytucji</em> lub ustawy, w związku z zajmowanym\n",
      "              stanowiskiem lub w zakresie swojego urzędowania, odpowiedzialność\n",
      "EXCERPT 2: \n",
      "\n",
      "W zakresie określonym w art. 107 <em>Konstytucji</em> odpowiedzialność przed\n",
      "           Trybunałem Stanu ponoszą również posłowie i senatorowie.\n",
      "EXCERPT 3: \n",
      "\n",
      "Za naruszenie zakazów, o których mowa w art. 107 ust. 1 <em>Konstytucji</em>,\n",
      "       Trybunał Stanu orzeka pozbawienie mandatu poselskiego.\n",
      "FILE: 1997_642.txt\n",
      "EXCERPT 1: \n",
      "\n",
      "występować do\n",
      "              Trybunału Konstytucyjnego z wnioskami o:\n",
      "             1) stwierdzenie zgodności ustaw i umów międzynarodowych z\n",
      "               <em>Konstytucją</em>\n",
      "EXCERPT 2: \n",
      "\n",
      "zgody wyrażonej w ustawie,\n",
      "             3) stwierdzenie zgodności przepisów prawa wydawanych przez\n",
      "               centralne organy państwowe, z <em>Konstytucją</em>\n",
      "EXCERPT 3: \n",
      "\n",
      ", ratyfikowanymi\n",
      "               umowami międzynarodowymi i ustawami,\n",
      "             4) stwierdzenie zgodności z <em>Konstytucją</em> celów lub\n",
      "               działalności\n",
      "FILE: 2001_23.txt\n",
      "EXCERPT 1: \n",
      "\n",
      "W Dzienniku Ustaw Rzeczypospolitej Polskiej, zwanym dalej \"Dziennikiem\n",
      "  Ustaw\", ogłasza się:\n",
      "   1) <em>Konstytucję</em>,\n",
      "   2) ustawy,\n",
      "   3) rozporządzenia z mocą\n",
      "EXCERPT 2: \n",
      "\n",
      "W Dzienniku Ustaw ogłasza się również akty prawne dotyczące:\n",
      "   1) stanu wojny i zawarcia pokoju,\n",
      "   2) referendum zatwierdzającego zmianę <em>Konstytucji</em>\n",
      "EXCERPT 3: \n",
      "\n",
      "regulaminu Senatu,\n",
      "     b) wyboru, powoływania, odwoływania, a także wyrażenia zgody na\n",
      "       powoływanie lub odwoływanie przez Sejm na określone w <em>Konstytucji</em>\n",
      "FILE: 1996_199.txt\n",
      "EXCERPT 1: \n",
      "\n",
      "Nr 38, \n",
      "poz. 184), oraz w art. 2c i art. 9-11 ustawy konstytucyjnej z dnia 23 kwietnia \n",
      "1992 r. o trybie przygotowania i uchwalenia <em>Konstytucji</em> Rzeczypospolitej\n",
      "EXCERPT 2: \n",
      "\n",
      "Prezydent Rzeczypospolitej Polskiej zarządza poddanie <em>Konstytucji</em> pod referendum\n",
      "   w trybie określonym w art. 9 ustawy konstytucyjnej, o której \n",
      "   mowa\n",
      "EXCERPT 3: \n",
      "\n",
      "Przedmiotem referendum mogą być wyłącznie konkretnie określone problemy\n",
      "   lub rozwiązania projektu <em>Konstytucji</em> Rzeczypospolitej Polskiej.\n",
      " 3.\n",
      "FILE: 1999_688.txt\n",
      "EXCERPT 1: \n",
      "\n",
      "Ustawa reguluje tryb postępowania w sprawie wykonywania inicjatywy\n",
      "ustawodawczej przez obywateli, o której mowa w art. 118 ust. 2 <em>Konstytucji</em>\n",
      "Rzeczypospolitej\n",
      "EXCERPT 2: \n",
      "\n",
      "Projekt ustawy nie może dotyczyć spraw, dla których <em>Konstytucja</em>\n",
      "Rzeczypospolitej Polskiej zastrzega wyłączną właściwość innych podmiotów,\n",
      "którym przysługuje\n",
      "EXCERPT 3: \n",
      "\n",
      "Projekt ustawy wniesiony do Marszałka Sejmu powinien odpowiadać wymogom\n",
      "  zawartym w <em>Konstytucji</em> i Regulaminie Sejmu Rzeczypospolitej Polskiej oraz w\n",
      "FILE: 1997_681.txt\n",
      "EXCERPT 1: \n",
      "\n",
      "Rzecznik Praw Dziecka, zwany dalej Rzecznikiem, stoi na straży praw dziecka\n",
      "  określonych w <em>Konstytucji</em> Rzeczypospolitej Polskiej, Konwencji o Prawach\n",
      "EXCERPT 2: \n",
      "\n",
      "Sejmem\n",
      "następujące ślubowanie:\n",
      "    \"Ślubuję uroczyście, że przy wykonywaniu powierzonych mi obowiązków\n",
      "     Rzecznika Praw Dziecka dochowam wierności <em>Konstytucji</em>\n",
      "FILE: 2001_1082.txt\n",
      "EXCERPT 1: \n",
      "\n",
      "Krajowa Rada Sądownictwa, zwana dalej \"Radą\", realizuje cele określone w\n",
      "  <em>Konstytucji</em> Rzeczypospolitej Polskiej.\n",
      "2.\n",
      "EXCERPT 2: \n",
      "\n",
      "czynności określone w ustawach, a w szczególności:\n",
      "   1) podejmuje uchwały w sprawach wystąpienia do Trybunału Konstytucyjnego o\n",
      "     zbadanie zgodności z <em>Konstytucją</em>\n"
     ]
    }
   ],
   "source": [
    "for hit in res['hits']['hits']:\n",
    "    print(\"FILE: {}\".format(hit['_source']['filename']))\n",
    "    i = 1\n",
    "    for h in hit['highlight']['payload']:\n",
    "        print('EXCERPT {}: \\n'.format(i))\n",
    "        print(h)\n",
    "        i += 1\n"
   ]
  },
  {
   "cell_type": "code",
   "execution_count": 13,
   "metadata": {
    "pycharm": {
     "name": "#%%\n"
    }
   },
   "outputs": [
    {
     "name": "stdout",
     "output_type": "stream",
     "text": [
      "test_index\n"
     ]
    }
   ],
   "source": [
    "# print indicies\n",
    "for index in es.indices.get('*'):\n",
    "  print(index)"
   ]
  },
  {
   "cell_type": "code",
   "execution_count": 14,
   "metadata": {
    "pycharm": {
     "name": "#%%\n"
    }
   },
   "outputs": [
    {
     "name": "stdout",
     "output_type": "stream",
     "text": [
      "{'acknowledged': True}\n"
     ]
    }
   ],
   "source": [
    "# delate index\n",
    "res = es.indices.delete(index='test_index', ignore=[400, 404])\n",
    "print(res)"
   ]
  },
  {
   "cell_type": "code",
   "execution_count": 15,
   "metadata": {
    "pycharm": {
     "name": "#%%\n"
    }
   },
   "outputs": [
    {
     "name": "stdout",
     "output_type": "stream",
     "text": [
      "{}\n"
     ]
    }
   ],
   "source": [
    "print(es.indices.get('*'))"
   ]
  }
 ],
 "metadata": {
  "kernelspec": {
   "display_name": "Python 3",
   "language": "python",
   "name": "python3"
  },
  "language_info": {
   "codemirror_mode": {
    "name": "ipython",
    "version": 3
   },
   "file_extension": ".py",
   "mimetype": "text/x-python",
   "name": "python",
   "nbconvert_exporter": "python",
   "pygments_lexer": "ipython3",
   "version": "3.7.4"
  }
 },
 "nbformat": 4,
 "nbformat_minor": 1
}