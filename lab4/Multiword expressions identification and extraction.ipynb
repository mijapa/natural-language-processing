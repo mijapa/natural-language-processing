{
 "cells": [
  {
   "cell_type": "markdown",
   "metadata": {
    "collapsed": true,
    "pycharm": {
     "name": "#%% md\n"
    }
   },
   "source": [
    "# Multiword expressions identification and extraction\n",
    "\n",
    "The task shows two simple methods useful for identifying multiword expressions (MWE) in corpora.\n",
    "\n",
    "## Tasks\n",
    "\n",
    "1. Use SpaCy [tokenizer API](https://spacy.io/api/tokenizer) to tokenize the text from the law corpus.\n",
    "https://spacy.io/usage\n",
    "\n",
    "python -m venv .env\n",
    "\n",
    "source .env/bin/activate\n",
    "\n",
    "conda install -c conda-forge spacy\n",
    "\n",
    "python -m spacy download pl_core_news_sm"
   ]
  },
  {
   "cell_type": "code",
   "execution_count": 1,
   "outputs": [],
   "source": [
    "import os\n",
    "import spacy\n",
    "from collections import Counter\n",
    "nlp = spacy.load(\"pl_core_news_sm\")\n",
    "\n",
    "\n",
    "def tokenize_data():\n",
    "    docs = []\n",
    "    directory = '../ustawy/'\n",
    "    file_list = os.listdir(os.getcwd() + '/' + directory)\n",
    "\n",
    "    for filename in file_list:\n",
    "        with open(os.path.join(directory + filename), 'r') as file:\n",
    "            infile = file.read()\n",
    "            doc_ = nlp(infile, disable=[\"tagger\", \"parser\"])\n",
    "            docs.append([filename, doc_])\n",
    "    return docs\n",
    "\n",
    "tokenized = tokenize_data()\n",
    "\n",
    "tokens = []\n",
    "for doc in tokenized:\n",
    "    for token in doc[1]:\n",
    "        # print(token.text, token.pos_)\n",
    "        tokens.append(token.text.lower())"
   ],
   "metadata": {
    "collapsed": false,
    "pycharm": {
     "name": "#%%\n"
    }
   }
  },
  {
   "cell_type": "markdown",
   "source": [
    "2. Compute **bigram** counts of downcased tokens.  Given the sentence: \"The quick brown fox jumps over the\n",
    "   lazy dog.\", the bigram counts are as follows:\n",
    "   1. \"the quick\": 1\n",
    "   1. \"quick brown\": 1\n",
    "   1. \"brown fox\": 1\n",
    "   1. ...\n",
    "   1. \"dog .\": 1"
   ],
   "metadata": {
    "collapsed": false
   }
  },
  {
   "cell_type": "code",
   "execution_count": 2,
   "outputs": [
    {
     "data": {
      "text/plain": "[(('art', '.'), 83778),\n (('ust', '.'), 53552),\n (('.', '\\n'), 49741),\n (('poz', '.'), 45198),\n ((',', 'poz'), 39655),\n (('-', '-'), 36542),\n (('r', '.'), 33015),\n (('w', 'art'), 30170),\n (('.', '1'), 29734),\n ((',', 'o'), 28739)]"
     },
     "execution_count": 2,
     "metadata": {},
     "output_type": "execute_result"
    }
   ],
   "source": [
    "def compute_bigrams(tokens):\n",
    "    bigrams = {}\n",
    "    for i in range(0, len(tokens) -1):\n",
    "        t1 = tokens[i]\n",
    "        t2 = tokens[i + 1]\n",
    "        if (t1, t2) not in bigrams:\n",
    "            bigrams[(t1, t2)] = 1\n",
    "        else:\n",
    "            bigrams[(t1, t2)] += 1\n",
    "    return bigrams\n",
    "\n",
    "bigrams = compute_bigrams(tokens)\n",
    "bigrams_sorted = dict(sorted(bigrams.items(), key=lambda b : b[1], reverse=True))\n",
    "list(bigrams_sorted.items())[:10]"
   ],
   "metadata": {
    "collapsed": false,
    "pycharm": {
     "name": "#%%\n"
    }
   }
  },
  {
   "cell_type": "markdown",
   "source": [
    "3. Discard bigrams containing characters other than letters. Make sure that you discard the invalid entries **after**\n",
    "   computing the bigram counts."
   ],
   "metadata": {
    "collapsed": false,
    "pycharm": {
     "name": "#%% md\n"
    }
   }
  },
  {
   "cell_type": "code",
   "execution_count": 3,
   "outputs": [
    {
     "data": {
      "text/plain": "[(('w', 'art'), 30170),\n (('mowa', 'w'), 27649),\n (('w', 'ust'), 22238),\n (('których', 'mowa'), 12973),\n (('o', 'których'), 12604),\n (('otrzymuje', 'brzmienie'), 9168),\n (('z', 'dnia'), 8989),\n (('którym', 'mowa'), 8689),\n (('o', 'którym'), 8525),\n (('do', 'spraw'), 8215)]"
     },
     "execution_count": 3,
     "metadata": {},
     "output_type": "execute_result"
    }
   ],
   "source": [
    "def discard_other_than_leters(bigrams):\n",
    "    bigrams_filtered = dict(filter(lambda a: a[0][0].isalpha() and a[0][1].isalpha(), bigrams.items()))\n",
    "    return bigrams_filtered\n",
    "\n",
    "bigrams_filtered = discard_other_than_leters(bigrams_sorted)\n",
    "list(bigrams_filtered.items())[:10]\n"
   ],
   "metadata": {
    "collapsed": false,
    "pycharm": {
     "name": "#%%\n"
    }
   }
  },
  {
   "cell_type": "markdown",
   "source": [
    "4. Use [pointwise mutual information](https://en.wikipedia.org/wiki/Pointwise_mutual_information) to compute the measure\n",
    "   for all pairs of words."
   ],
   "metadata": {
    "collapsed": false
   }
  },
  {
   "cell_type": "code",
   "execution_count": 4,
   "outputs": [
    {
     "data": {
      "text/plain": "[(('w', 'art'), 2.345249554756128),\n (('mowa', 'w'), 3.3266868664983607),\n (('w', 'ust'), 2.4864642934945858),\n (('których', 'mowa'), 4.987799469251011),\n (('o', 'których'), 4.147777751557646)]"
     },
     "execution_count": 4,
     "metadata": {},
     "output_type": "execute_result"
    }
   ],
   "source": [
    "import math\n",
    "def compute_freq_list(tokenized):\n",
    "    from collections import defaultdict\n",
    "    freqlist = defaultdict(int)\n",
    "    for doc in tokenized:\n",
    "        for token in doc[1]:\n",
    "            freqlist[token.text.lower()]+=1\n",
    "    return freqlist\n",
    "\n",
    "freq_list = compute_freq_list(tokenized)\n",
    "\n",
    "def calc_bigrams_pmi(bigrams, freq_list):\n",
    "    words_count = sum(list(map(lambda item: item[1], freq_list.items())))\n",
    "    bigrams_pmi = {}\n",
    "    for item in bigrams.items():\n",
    "        bigram = item[0]\n",
    "        count = item[1]\n",
    "        bigrams_pmi[bigram] = math.log(count * words_count / (freq_list[bigram[0]] * freq_list[bigram[1]]))\n",
    "    return bigrams_pmi\n",
    "\n",
    "bigrams_pmi = calc_bigrams_pmi(bigrams_filtered, freq_list)\n",
    "list(bigrams_pmi.items())[:5]"
   ],
   "metadata": {
    "collapsed": false,
    "pycharm": {
     "name": "#%%\n"
    }
   }
  },
  {
   "cell_type": "markdown",
   "source": [
    "5. Sort the word pairs according to that measure in the descending order and determine top 10 entries."
   ],
   "metadata": {
    "collapsed": false
   }
  },
  {
   "cell_type": "code",
   "execution_count": 5,
   "outputs": [
    {
     "data": {
      "text/plain": "[('sezony', 'wegetacyjne'),\n ('pasiekę', 'umiejscawia'),\n ('varroa', 'jacobsoni'),\n ('agrotechniki', 'nienaruszającej'),\n ('kologisk', 'jordburg'),\n ('ef', 'kontrolordning'),\n ('ökologische', 'agrarwirtschaft'),\n ('biologi', 'gewria'),\n ('suthma', 'eegcou'),\n ('eegcou', 'eok')]"
     },
     "execution_count": 5,
     "metadata": {},
     "output_type": "execute_result"
    }
   ],
   "source": [
    "bigrams_pmi_sorted = dict(sorted(bigrams_pmi.items(), key=lambda item: item[1], reverse=True))\n",
    "top10_pmi_bigrams_sorted = list(bigrams_pmi_sorted)[:10]\n",
    "top10_pmi_bigrams_sorted"
   ],
   "metadata": {
    "collapsed": false,
    "pycharm": {
     "name": "#%%\n"
    }
   }
  },
  {
   "cell_type": "markdown",
   "source": [
    "6. Filter bigrams with number of occurrences lower than 5. Determine top 10 entries for the remaining dataset (>=5\n",
    "   occurrences)."
   ],
   "metadata": {
    "collapsed": false
   }
  },
  {
   "cell_type": "code",
   "execution_count": 6,
   "outputs": [
    {
     "data": {
      "text/plain": "[('ręcznego', 'miotacza'),\n ('grzegorz', 'schetyna'),\n ('świeckie', 'przygotowujące'),\n ('młynki', 'młotkowe'),\n ('młyny', 'kulowe'),\n ('otworami', 'wiertniczymi'),\n ('klęskami', 'żywiołowymi'),\n ('środa', 'wlkp'),\n ('stajnią', 'wyścigową'),\n ('zaszkodzić', 'wynikom')]"
     },
     "execution_count": 6,
     "metadata": {},
     "output_type": "execute_result"
    }
   ],
   "source": [
    "bigrams_pmi_sorted_5filtered = dict(filter(lambda a: bigrams_filtered[a[0]] >= 5, bigrams_pmi_sorted.items()))\n",
    "top10_pmi_bigrams_sorted_5filtered = list(bigrams_pmi_sorted_5filtered)[:10]\n",
    "top10_pmi_bigrams_sorted_5filtered"
   ],
   "metadata": {
    "collapsed": false,
    "pycharm": {
     "name": "#%%\n"
    }
   }
  },
  {
   "cell_type": "markdown",
   "source": [
    "7. Use [log likelihood ratio](http://tdunning.blogspot.com/2008/03/surprise-and-coincidence.html) (LLR) to compute the measure\n",
    "   for all pairs of words.\n",
    "\n",
    "> Skorzystałem z: https://github.com/tdunning/python-llr/blob/master/llr.py"
   ],
   "metadata": {
    "collapsed": false
   }
  },
  {
   "cell_type": "code",
   "execution_count": 7,
   "outputs": [
    {
     "data": {
      "text/plain": "[(('w', 'art'), 101178.90501589281),\n (('mowa', 'w'), 180285.02858320414),\n (('w', 'ust'), 81238.3993172762),\n (('których', 'mowa'), 123606.48304089962),\n (('o', 'których'), 94268.34465772077)]"
     },
     "execution_count": 7,
     "metadata": {},
     "output_type": "execute_result"
    }
   ],
   "source": [
    "def denormEntropy(counts):\n",
    "    '''Computes the entropy of a list of counts scaled by the sum of the counts. If the inputs sum to one, this is just the normal definition of entropy'''\n",
    "    counts = list(counts)\n",
    "    total = float(sum(counts))\n",
    "    # Note tricky way to avoid 0*log(0)\n",
    "    return -sum([k * math.log(k/total + (k==0)) for k in counts])\n",
    "\n",
    "def llr_2x2(k11, k12, k21, k22):\n",
    "    '''Special case of llr with a 2x2 table'''\n",
    "    return 2 * (denormEntropy([k11+k12, k21+k22]) +\n",
    "                denormEntropy([k11+k21, k12+k22]) -\n",
    "                denormEntropy([k11, k12, k21, k22]))\n",
    "\n",
    "def calc_bigrams_llr(bigrams, freq_list):\n",
    "    words_count = sum(list(map(lambda item: item[1], freq_list.items())))\n",
    "    bigrams_llr = {}\n",
    "    for item in bigrams.items():\n",
    "        bigram = item[0]\n",
    "        count = item[1]\n",
    "        b0 = bigram[0]\n",
    "        b1 = bigram[1]\n",
    "        b0_and_b1 = count\n",
    "        b0_wo_b1 = freq_list[b0] - count\n",
    "        b1_wo_b0 = freq_list[b1] - count\n",
    "        n_b0_n_b1 = words_count - freq_list[b0] - freq_list[b1]\n",
    "        bigrams_llr[bigram] = llr_2x2(b0_and_b1, b1_wo_b0, b0_wo_b1, n_b0_n_b1)\n",
    "\n",
    "    return bigrams_llr\n",
    "\n",
    "bigrams_llr = calc_bigrams_llr(bigrams_filtered, freq_list)\n",
    "list(bigrams_llr.items())[:5]\n"
   ],
   "metadata": {
    "collapsed": false,
    "pycharm": {
     "name": "#%%\n"
    }
   }
  },
  {
   "cell_type": "markdown",
   "source": [
    "8. Sort the word pairs according to that measure in the descending order and display top 10 entries."
   ],
   "metadata": {
    "collapsed": false
   }
  },
  {
   "cell_type": "code",
   "execution_count": 8,
   "outputs": [
    {
     "data": {
      "text/plain": "[('mowa', 'w'),\n ('których', 'mowa'),\n ('otrzymuje', 'brzmienie'),\n ('w', 'art'),\n ('o', 'których'),\n ('którym', 'mowa'),\n ('w', 'ust'),\n ('dodaje', 'się'),\n ('do', 'spraw'),\n ('o', 'którym')]"
     },
     "execution_count": 8,
     "metadata": {},
     "output_type": "execute_result"
    }
   ],
   "source": [
    "bigrams_llr_sorted = dict(sorted(bigrams_llr.items(), key=lambda item: item[1], reverse=True))\n",
    "top10_llr_bigrams_sorted = list(bigrams_llr_sorted)[:10]\n",
    "top10_llr_bigrams_sorted"
   ],
   "metadata": {
    "collapsed": false,
    "pycharm": {
     "name": "#%%\n"
    }
   }
  },
  {
   "cell_type": "markdown",
   "source": [
    "9. Compute **trigram** counts for the whole corpus and perform the same filtering."
   ],
   "metadata": {
    "collapsed": false
   }
  },
  {
   "cell_type": "code",
   "execution_count": 9,
   "outputs": [
    {
     "data": {
      "text/plain": "[((',', 'poz', '.'), 39633),\n (('-', '-', '-'), 34641),\n (('w', 'art', '.'), 30162),\n (('ust', '.', '1'), 22618),\n (('w', 'ust', '.'), 22204),\n (('r', '.', 'nr'), 16956),\n (('_', '_', '_'), 16111),\n (('których', 'mowa', 'w'), 12506),\n (('mowa', 'w', 'ust'), 12388),\n ((',', 'o', 'których'), 12009)]"
     },
     "execution_count": 9,
     "metadata": {},
     "output_type": "execute_result"
    }
   ],
   "source": [
    "def compute_trigrams(tokens):\n",
    "    trigrams = {}\n",
    "    for i in range(0, len(tokens) -2):\n",
    "        t1 = tokens[i]\n",
    "        t2 = tokens[i + 1]\n",
    "        t3 = tokens[i + 2]\n",
    "        if (t1, t2, t3) not in trigrams:\n",
    "            trigrams[(t1, t2, t3)] = 1\n",
    "        else:\n",
    "            trigrams[(t1, t2, t3)] += 1\n",
    "    return trigrams\n",
    "\n",
    "trigrams = compute_trigrams(tokens)\n",
    "trigrams_sorted = dict(sorted(trigrams.items(), key=lambda b : b[1], reverse=True))\n",
    "list(trigrams_sorted.items())[:10]\n"
   ],
   "metadata": {
    "collapsed": false,
    "pycharm": {
     "name": "#%%\n"
    }
   }
  },
  {
   "cell_type": "code",
   "execution_count": 10,
   "outputs": [
    {
     "data": {
      "text/plain": "[(('których', 'mowa', 'w'), 12506),\n (('mowa', 'w', 'ust'), 12388),\n (('o', 'których', 'mowa'), 11714),\n (('mowa', 'w', 'art'), 10995),\n (('którym', 'mowa', 'w'), 8429),\n (('o', 'którym', 'mowa'), 8040),\n (('której', 'mowa', 'w'), 5020),\n (('o', 'której', 'mowa'), 4731),\n (('właściwy', 'do', 'spraw'), 4434),\n (('minister', 'właściwy', 'do'), 4106)]"
     },
     "execution_count": 10,
     "metadata": {},
     "output_type": "execute_result"
    }
   ],
   "source": [
    "def discard_other_than_leters_in_tri(trigrams):\n",
    "    trigrams_filtered = dict(filter(lambda a: a[0][0].isalpha() and a[0][1].isalpha() and a[0][2].isalpha(), trigrams.items()))\n",
    "    return trigrams_filtered\n",
    "\n",
    "trigrams_filtered = discard_other_than_leters_in_tri(trigrams_sorted)\n",
    "list(trigrams_filtered.items())[:10]\n"
   ],
   "metadata": {
    "collapsed": false,
    "pycharm": {
     "name": "#%%\n"
    }
   }
  },
  {
   "cell_type": "markdown",
   "source": [
    "10. Use PMI (with 5 occurrence threshold) and LLR to compute top 10 results for the trigrams. Devise a method for computing the values, based on the\n",
    "   results for bigrams."
   ],
   "metadata": {
    "collapsed": false
   }
  },
  {
   "cell_type": "code",
   "execution_count": 11,
   "outputs": [
    {
     "data": {
      "text/plain": "[(('których', 'mowa', 'w'), -7.261036270580908),\n (('mowa', 'w', 'ust'), -8.36615019573926),\n (('o', 'których', 'mowa'), -6.192991978733537),\n (('mowa', 'w', 'art'), -8.931698088471862),\n (('którym', 'mowa', 'w'), -7.236146725727466)]"
     },
     "execution_count": 11,
     "metadata": {},
     "output_type": "execute_result"
    }
   ],
   "source": [
    "def calc_trigrams_pmi(trigrams, freq_list):\n",
    "    words_count = sum(list(map(lambda item: item[1], freq_list.items())))\n",
    "    trigrams_pmi = {}\n",
    "    for item in trigrams.items():\n",
    "        trigram = item[0]\n",
    "        count = item[1]\n",
    "        trigrams_pmi[trigram] = math.log(count * words_count / (freq_list[trigram[0]] * freq_list[trigram[1]] * freq_list[trigram[2]]))\n",
    "    return trigrams_pmi\n",
    "\n",
    "trigrams_pmi = calc_trigrams_pmi(trigrams_filtered, freq_list)\n",
    "list(trigrams_pmi.items())[:5]\n"
   ],
   "metadata": {
    "collapsed": false,
    "pycharm": {
     "name": "#%%\n"
    }
   }
  },
  {
   "cell_type": "code",
   "execution_count": 12,
   "outputs": [],
   "source": [
    "trigrams_pmi_sorted = dict(sorted(trigrams_pmi.items(), key=lambda item: item[1], reverse=True))\n",
    "# top10_pmi_trigrams_sorted = list(trigrams_pmi_sorted)[:10]"
   ],
   "metadata": {
    "collapsed": false,
    "pycharm": {
     "name": "#%%\n"
    }
   }
  },
  {
   "cell_type": "code",
   "execution_count": 13,
   "outputs": [
    {
     "data": {
      "text/plain": "[('profilem', 'zaufanym', 'epuap'),\n ('finałowego', 'turnieju', 'mistrzostw'),\n ('przedwczesnego', 'wyrębu', 'drzewostanu'),\n ('potwierdzonym', 'profilem', 'zaufanym'),\n ('piłce', 'nożnej', 'uefa'),\n ('cienką', 'sierścią', 'zwierzęcą'),\n ('szybkiemu', 'postępowi', 'technicznemu'),\n ('turnieju', 'mistrzostw', 'europy'),\n ('grożącą', 'jemu', 'samemu'),\n ('wypalonym', 'paliwem', 'jądrowym')]"
     },
     "execution_count": 13,
     "metadata": {},
     "output_type": "execute_result"
    }
   ],
   "source": [
    "trigrams_pmi_sorted_5filtered = dict(filter(lambda a: trigrams_filtered[a[0]] >= 5, trigrams_pmi_sorted.items()))\n",
    "top10_pmi_trigrams_sorted_5filtered = list(trigrams_pmi_sorted_5filtered)[:10]\n",
    "top10_pmi_trigrams_sorted_5filtered"
   ],
   "metadata": {
    "collapsed": false,
    "pycharm": {
     "name": "#%%\n"
    }
   }
  },
  {
   "cell_type": "markdown",
   "source": [
    "> LRR dla trigramów liczę poprzez połączenie bigramu i dodatkowego słowa"
   ],
   "metadata": {
    "collapsed": false,
    "pycharm": {
     "name": "#%% md\n"
    }
   }
  },
  {
   "cell_type": "code",
   "execution_count": 14,
   "outputs": [
    {
     "data": {
      "text/plain": "[(('których', 'mowa', 'w'), 80990.40335285128),\n (('mowa', 'w', 'ust'), 81512.409128526),\n (('o', 'których', 'mowa'), 123580.04397681577),\n (('mowa', 'w', 'art'), 58107.125370708294),\n (('którym', 'mowa', 'w'), 54786.1951494785)]"
     },
     "execution_count": 14,
     "metadata": {},
     "output_type": "execute_result"
    }
   ],
   "source": [
    "def calc_trigrams_llr(trigrams, freq_list):\n",
    "    words_count = sum(list(map(lambda item: item[1], freq_list.items())))\n",
    "    trigrams_llr = {}\n",
    "    for item in trigrams.items():\n",
    "        trigram = item[0]\n",
    "        count = item[1]\n",
    "        b0 = (trigram[0], trigram[1])\n",
    "        b1 = trigram[2]\n",
    "        b0_and_b1 = count\n",
    "        b0_wo_b1 = bigrams[b0] - count\n",
    "        b1_wo_b0 = freq_list[b1] - count\n",
    "        n_b0_n_b1 = words_count - freq_list[b0] - freq_list[b1]\n",
    "        trigrams_llr[trigram] = llr_2x2(b0_and_b1, b1_wo_b0, b0_wo_b1, n_b0_n_b1)\n",
    "\n",
    "    return trigrams_llr\n",
    "\n",
    "trigrams_llr = calc_trigrams_llr(trigrams_filtered, freq_list)\n",
    "list(trigrams_llr.items())[:5]"
   ],
   "metadata": {
    "collapsed": false,
    "pycharm": {
     "name": "#%%\n"
    }
   }
  },
  {
   "cell_type": "code",
   "execution_count": 15,
   "outputs": [
    {
     "data": {
      "text/plain": "[('o', 'których', 'mowa'),\n ('o', 'którym', 'mowa'),\n ('mowa', 'w', 'ust'),\n ('których', 'mowa', 'w'),\n ('mowa', 'w', 'art'),\n ('właściwy', 'do', 'spraw'),\n ('którym', 'mowa', 'w'),\n ('o', 'której', 'mowa'),\n ('w', 'drodze', 'rozporządzenia'),\n ('ustawie', 'z', 'dnia')]"
     },
     "execution_count": 15,
     "metadata": {},
     "output_type": "execute_result"
    }
   ],
   "source": [
    "trigrams_llr_sorted = dict(sorted(trigrams_llr.items(), key=lambda item: item[1], reverse=True))\n",
    "top10_llr_trigrams_sorted = list(trigrams_llr_sorted)[:10]\n",
    "top10_llr_trigrams_sorted"
   ],
   "metadata": {
    "collapsed": false,
    "pycharm": {
     "name": "#%%\n"
    }
   }
  },
  {
   "cell_type": "markdown",
   "source": [
    "11. Create a table comparing the methods (separate table for bigrams and trigrams)."
   ],
   "metadata": {
    "collapsed": false
   }
  },
  {
   "cell_type": "code",
   "execution_count": 16,
   "outputs": [
    {
     "data": {
      "text/plain": "                       bigrams pmi      bigrams pmi 5 filtered  \\\n0            (sezony, wegetacyjne)        (ręcznego, miotacza)   \n1           (pasiekę, umiejscawia)        (grzegorz, schetyna)   \n2              (varroa, jacobsoni)  (świeckie, przygotowujące)   \n3  (agrotechniki, nienaruszającej)          (młynki, młotkowe)   \n4             (kologisk, jordburg)             (młyny, kulowe)   \n5             (ef, kontrolordning)    (otworami, wiertniczymi)   \n6   (ökologische, agrarwirtschaft)     (klęskami, żywiołowymi)   \n7                (biologi, gewria)               (środa, wlkp)   \n8                 (suthma, eegcou)        (stajnią, wyścigową)   \n9                    (eegcou, eok)       (zaszkodzić, wynikom)   \n\n              bigrams llr  \n0               (mowa, w)  \n1         (których, mowa)  \n2  (otrzymuje, brzmienie)  \n3                (w, art)  \n4            (o, których)  \n5          (którym, mowa)  \n6                (w, ust)  \n7           (dodaje, się)  \n8             (do, spraw)  \n9             (o, którym)  ",
      "text/html": "<div>\n<style scoped>\n    .dataframe tbody tr th:only-of-type {\n        vertical-align: middle;\n    }\n\n    .dataframe tbody tr th {\n        vertical-align: top;\n    }\n\n    .dataframe thead th {\n        text-align: right;\n    }\n</style>\n<table border=\"1\" class=\"dataframe\">\n  <thead>\n    <tr style=\"text-align: right;\">\n      <th></th>\n      <th>bigrams pmi</th>\n      <th>bigrams pmi 5 filtered</th>\n      <th>bigrams llr</th>\n    </tr>\n  </thead>\n  <tbody>\n    <tr>\n      <th>0</th>\n      <td>(sezony, wegetacyjne)</td>\n      <td>(ręcznego, miotacza)</td>\n      <td>(mowa, w)</td>\n    </tr>\n    <tr>\n      <th>1</th>\n      <td>(pasiekę, umiejscawia)</td>\n      <td>(grzegorz, schetyna)</td>\n      <td>(których, mowa)</td>\n    </tr>\n    <tr>\n      <th>2</th>\n      <td>(varroa, jacobsoni)</td>\n      <td>(świeckie, przygotowujące)</td>\n      <td>(otrzymuje, brzmienie)</td>\n    </tr>\n    <tr>\n      <th>3</th>\n      <td>(agrotechniki, nienaruszającej)</td>\n      <td>(młynki, młotkowe)</td>\n      <td>(w, art)</td>\n    </tr>\n    <tr>\n      <th>4</th>\n      <td>(kologisk, jordburg)</td>\n      <td>(młyny, kulowe)</td>\n      <td>(o, których)</td>\n    </tr>\n    <tr>\n      <th>5</th>\n      <td>(ef, kontrolordning)</td>\n      <td>(otworami, wiertniczymi)</td>\n      <td>(którym, mowa)</td>\n    </tr>\n    <tr>\n      <th>6</th>\n      <td>(ökologische, agrarwirtschaft)</td>\n      <td>(klęskami, żywiołowymi)</td>\n      <td>(w, ust)</td>\n    </tr>\n    <tr>\n      <th>7</th>\n      <td>(biologi, gewria)</td>\n      <td>(środa, wlkp)</td>\n      <td>(dodaje, się)</td>\n    </tr>\n    <tr>\n      <th>8</th>\n      <td>(suthma, eegcou)</td>\n      <td>(stajnią, wyścigową)</td>\n      <td>(do, spraw)</td>\n    </tr>\n    <tr>\n      <th>9</th>\n      <td>(eegcou, eok)</td>\n      <td>(zaszkodzić, wynikom)</td>\n      <td>(o, którym)</td>\n    </tr>\n  </tbody>\n</table>\n</div>"
     },
     "execution_count": 16,
     "metadata": {},
     "output_type": "execute_result"
    }
   ],
   "source": [
    "import pandas as pd\n",
    "bigrams_results_tab = pd.DataFrame({\n",
    "    'bigrams pmi' : top10_pmi_bigrams_sorted,\n",
    "    'bigrams pmi 5 filtered' : top10_pmi_bigrams_sorted_5filtered,\n",
    "    'bigrams llr' : top10_llr_bigrams_sorted})\n",
    "bigrams_results_tab"
   ],
   "metadata": {
    "collapsed": false,
    "pycharm": {
     "name": "#%%\n"
    }
   }
  },
  {
   "cell_type": "code",
   "execution_count": 17,
   "outputs": [
    {
     "data": {
      "text/plain": "                            trigrams pmi                 trigrams lrr\n0            (profilem, zaufanym, epuap)           (o, których, mowa)\n1     (finałowego, turnieju, mistrzostw)            (o, którym, mowa)\n2  (przedwczesnego, wyrębu, drzewostanu)               (mowa, w, ust)\n3    (potwierdzonym, profilem, zaufanym)           (których, mowa, w)\n4                  (piłce, nożnej, uefa)               (mowa, w, art)\n5          (cienką, sierścią, zwierzęcą)        (właściwy, do, spraw)\n6   (szybkiemu, postępowi, technicznemu)            (którym, mowa, w)\n7         (turnieju, mistrzostw, europy)            (o, której, mowa)\n8                (grożącą, jemu, samemu)  (w, drodze, rozporządzenia)\n9         (wypalonym, paliwem, jądrowym)           (ustawie, z, dnia)",
      "text/html": "<div>\n<style scoped>\n    .dataframe tbody tr th:only-of-type {\n        vertical-align: middle;\n    }\n\n    .dataframe tbody tr th {\n        vertical-align: top;\n    }\n\n    .dataframe thead th {\n        text-align: right;\n    }\n</style>\n<table border=\"1\" class=\"dataframe\">\n  <thead>\n    <tr style=\"text-align: right;\">\n      <th></th>\n      <th>trigrams pmi</th>\n      <th>trigrams lrr</th>\n    </tr>\n  </thead>\n  <tbody>\n    <tr>\n      <th>0</th>\n      <td>(profilem, zaufanym, epuap)</td>\n      <td>(o, których, mowa)</td>\n    </tr>\n    <tr>\n      <th>1</th>\n      <td>(finałowego, turnieju, mistrzostw)</td>\n      <td>(o, którym, mowa)</td>\n    </tr>\n    <tr>\n      <th>2</th>\n      <td>(przedwczesnego, wyrębu, drzewostanu)</td>\n      <td>(mowa, w, ust)</td>\n    </tr>\n    <tr>\n      <th>3</th>\n      <td>(potwierdzonym, profilem, zaufanym)</td>\n      <td>(których, mowa, w)</td>\n    </tr>\n    <tr>\n      <th>4</th>\n      <td>(piłce, nożnej, uefa)</td>\n      <td>(mowa, w, art)</td>\n    </tr>\n    <tr>\n      <th>5</th>\n      <td>(cienką, sierścią, zwierzęcą)</td>\n      <td>(właściwy, do, spraw)</td>\n    </tr>\n    <tr>\n      <th>6</th>\n      <td>(szybkiemu, postępowi, technicznemu)</td>\n      <td>(którym, mowa, w)</td>\n    </tr>\n    <tr>\n      <th>7</th>\n      <td>(turnieju, mistrzostw, europy)</td>\n      <td>(o, której, mowa)</td>\n    </tr>\n    <tr>\n      <th>8</th>\n      <td>(grożącą, jemu, samemu)</td>\n      <td>(w, drodze, rozporządzenia)</td>\n    </tr>\n    <tr>\n      <th>9</th>\n      <td>(wypalonym, paliwem, jądrowym)</td>\n      <td>(ustawie, z, dnia)</td>\n    </tr>\n  </tbody>\n</table>\n</div>"
     },
     "execution_count": 17,
     "metadata": {},
     "output_type": "execute_result"
    }
   ],
   "source": [
    "trigrams_results_tab = pd.DataFrame({\n",
    "    'trigrams pmi' : top10_pmi_trigrams_sorted_5filtered,\n",
    "    'trigrams lrr' : top10_llr_trigrams_sorted\n",
    "})\n",
    "trigrams_results_tab"
   ],
   "metadata": {
    "collapsed": false,
    "pycharm": {
     "name": "#%%\n"
    }
   }
  },
  {
   "cell_type": "markdown",
   "source": [
    "12. Answer the following questions:\n",
    "   1. Why do we have to filter the bigrams, rather than the token sequence?\n",
    "   > Taki sposób filtrowanie pozwala uniknąć tworzenia bigramów składających się z końca zdania poprzedniego i początku zdania następnego.\n",
    "   2. Which measure (PMI, PMI with filtering, LLR) works better for the bigrams and which for the trigrams?\n",
    "\n",
    "   3. What types of expressions are discovered by the methods.\n",
    "\n",
    "   4. Can you devise a different type of filtering that would yield better results?\n",
    "\n",
    "\n",
    "## Hints\n",
    "\n",
    "1. An n-gram is a sequence containing n words. A unigram is a sequence containing one word,\n",
    "   a bigram is a sequence containing two consecutive words, etc.\n",
    "1. *Pointwise mutual information* is used to identify correlated events. It's based on the assumption that the events\n",
    "   follow normal distribution and that there is a minimal number of occurrences of the words. These assumptions hold\n",
    "   only for a subset of words.\n",
    "1. Log likelihood ratio test doesn't have these assumption. This makes it better suited for the task.\n",
    "1. There is [LLR implementation](https://github.com/tdunning/python-llr) in Python, implemented by Ted Dunning - the\n",
    "   author of the important work [Accurate Methods for the Statistics of Surprise and\n",
    "   Coincidence](https://aclweb.org/anthology/J93-1003) which introduces LLR to NLP.\n",
    "1. The methods presented in this exercise can be also used for the identification of words belonging to a given domain\n",
    "   (e.g. law, biology, medicine).\n",
    "1. [SRI LM](http://www.speech.sri.com/projects/srilm/) is useful for computing the counts of n-grams.\n",
    "   [Gensim](https://radimrehurek.com/gensim/models/phrases.html) also allows\n",
    "   to compute these values.\n",
    "1. ElasticSearch has a [shingle token filter](https://www.elastic.co/guide/en/elasticsearch/reference/current/analysis-shingle-tokenfilter.html)\n",
    "   which can be used to build the n-grams as well.\n",
    "1. BTW \"multiword expressions\" is a mutliword expression itself ;-)"
   ],
   "metadata": {
    "collapsed": false
   }
  }
 ],
 "metadata": {
  "kernelspec": {
   "display_name": "Python 3",
   "language": "python",
   "name": "python3"
  },
  "language_info": {
   "codemirror_mode": {
    "name": "ipython",
    "version": 2
   },
   "file_extension": ".py",
   "mimetype": "text/x-python",
   "name": "python",
   "nbconvert_exporter": "python",
   "pygments_lexer": "ipython2",
   "version": "2.7.6"
  }
 },
 "nbformat": 4,
 "nbformat_minor": 0
}