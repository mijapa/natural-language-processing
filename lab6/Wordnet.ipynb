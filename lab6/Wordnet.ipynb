{
 "cells": [
  {
   "cell_type": "markdown",
   "metadata": {
    "collapsed": true,
    "pycharm": {
     "name": "#%% md\n"
    }
   },
   "source": [
    "# Wordnet (słowosieć)\n",
    "\n",
    "The task concentrates on the usage of a WordNet for finding semantic relations between words and expressions.\n",
    "\n",
    "## Tasks\n",
    "\n",
    "1. Read the [Wordnet API](http://api.slowosiec.clarin-pl.eu/docs/index.html)\n",
    ">zrobione\n",
    "2. Get acquainted with [semantic relations](http://nlp.pwr.wroc.pl/narzedzia-i-zasoby/narzedzia/disaster/25-wiedza/81-relacje-w-slowosieci) in WordNet.\n",
    ">zrobione\n",
    "3. Find all meanings of the _szkoda_ **noun** and display all their synonyms."
   ]
  },
  {
   "cell_type": "code",
   "execution_count": 1,
   "metadata": {
    "pycharm": {
     "name": "#%%\n"
    }
   },
   "outputs": [
    {
     "name": "stdout",
     "output_type": "stream",
     "text": [
      "[8769, 8771]\n"
     ]
    }
   ],
   "source": [
    "import requests\n",
    "\n",
    "lemma = 'szkoda'\n",
    "partOfSpeech = 'noun'\n",
    "def get_senses_ids(lemma, partOfSpeech):\n",
    "    headers = {'Content-Type': 'application/json',}\n",
    "\n",
    "    params = (('lemma', lemma),\n",
    "              ('partOfSpeech', partOfSpeech))\n",
    "\n",
    "    response = requests.get('http://api.slowosiec.clarin-pl.eu:80/plwordnet-api/senses/search', headers=headers, params=params)\n",
    "    senses = response.json()['content']\n",
    "    senses_ids = []\n",
    "    for sens in senses:\n",
    "        senses_ids.append(sens['id'])\n",
    "    return  senses_ids\n",
    "\n",
    "senses_ids = get_senses_ids(lemma, partOfSpeech)\n",
    "print(senses_ids)"
   ]
  },
  {
   "cell_type": "code",
   "execution_count": 2,
   "metadata": {
    "pycharm": {
     "name": "#%%\n"
    }
   },
   "outputs": [
    {
     "name": "stdout",
     "output_type": "stream",
     "text": [
      "6533\n"
     ]
    }
   ],
   "source": [
    "def get_id_of_owning_synset(word_id):\n",
    "    response = requests.get('http://api.slowosiec.clarin-pl.eu/plwordnet-api/senses/'+str(word_id)+'/synset')\n",
    "    synset_id = response.json()['id']\n",
    "    # print(synset_id)\n",
    "    return synset_id\n",
    "\n",
    "synset_id = get_id_of_owning_synset(8769)\n",
    "print(synset_id)"
   ]
  },
  {
   "cell_type": "code",
   "execution_count": 3,
   "metadata": {
    "pycharm": {
     "name": "#%%\n"
    }
   },
   "outputs": [],
   "source": [
    "def get_synset_atribute(synset_id):\n",
    "    response = requests.get('http://api.slowosiec.clarin-pl.eu/plwordnet-api/synsets/'+str(synset_id)+'/attributes')\n",
    "    atribute = response.json()[0]['value']\n",
    "    return atribute"
   ]
  },
  {
   "cell_type": "code",
   "execution_count": 4,
   "metadata": {
    "pycharm": {
     "name": "#%%\n"
    }
   },
   "outputs": [
    {
     "name": "stdout",
     "output_type": "stream",
     "text": [
      "(strata 1 (zdarz) | utrata 1 (zdarz), szkoda 2 (pos), uszczerbek 1 (zdarz))\n"
     ]
    }
   ],
   "source": [
    "def get_unitString_for_synset_id(synset_id):\n",
    "    response = requests.get('http://api.slowosiec.clarin-pl.eu/plwordnet-api/synsets/'+str(synset_id)+'/unitString')\n",
    "    unitString = response.json()['value']\n",
    "    return unitString\n",
    "\n",
    "unitString = get_unitString_for_synset_id(3675)\n",
    "print(unitString)"
   ]
  },
  {
   "cell_type": "code",
   "execution_count": 5,
   "metadata": {
    "pycharm": {
     "name": "#%%\n"
    }
   },
   "outputs": [
    {
     "name": "stdout",
     "output_type": "stream",
     "text": [
      "Synset id: 6533, atribut: ziemia w gospodarstwie zniszczona przez zwierzęta\n",
      "Synonimy: (szkoda 1 (msc) | )\n",
      "Synset id: 3675, atribut: 0\n",
      "Synonimy: (strata 1 (zdarz) | utrata 1 (zdarz), szkoda 2 (pos), uszczerbek 1 (zdarz))\n"
     ]
    }
   ],
   "source": [
    "attributes = []\n",
    "for sens_id in senses_ids:\n",
    "    synset_id = get_id_of_owning_synset(sens_id)\n",
    "    attribute = get_synset_atribute(synset_id)\n",
    "    unitString = get_unitString_for_synset_id(synset_id)\n",
    "    print('Synset id: {}, atribut: {}'.format(synset_id, attribute))\n",
    "    print('Synonimy: {}'.format(unitString))\n"
   ]
  },
  {
   "cell_type": "markdown",
   "metadata": {
    "pycharm": {
     "name": "#%% md\n"
    }
   },
   "source": [
    "4. Find closure of **hypernymy** relation for the first meaning of the _wypadek drogowy_ expression.\n",
    "   Create diagram of the relations as a directed graph."
   ]
  },
  {
   "cell_type": "code",
   "execution_count": 6,
   "metadata": {
    "pycharm": {
     "name": "#%%\n"
    }
   },
   "outputs": [
    {
     "name": "stdout",
     "output_type": "stream",
     "text": [
      "644786\n"
     ]
    }
   ],
   "source": [
    "word = 'wypadek drogowy'\n",
    "\n",
    "def get_word_id(word):\n",
    "    params = (('lemma', word),)\n",
    "    response = requests.get('http://api.slowosiec.clarin-pl.eu:80/plwordnet-api/senses/search', params=params)\n",
    "    word_id = response.json()[('content')][0]['id']\n",
    "    # print(word_id)\n",
    "    return word_id\n",
    "\n",
    "word_id = get_word_id(word)\n",
    "print(word_id)"
   ]
  },
  {
   "cell_type": "code",
   "execution_count": 7,
   "metadata": {
    "pycharm": {
     "name": "#%%\n"
    }
   },
   "outputs": [
    {
     "name": "stdout",
     "output_type": "stream",
     "text": [
      "102819\n"
     ]
    }
   ],
   "source": [
    "def find_hyperonym_synset_for_synset_id(synset_id):\n",
    "# the name of the relation\n",
    "    response = requests.get('http://api.slowosiec.clarin-pl.eu/plwordnet-api/synsets/'+str(synset_id)+'/relations')\n",
    "    synsets = response.json()\n",
    "    for synset in synsets:\n",
    "        # print(synset)\n",
    "        if synset['relation']['name']=='hiponimia':\n",
    "            # print(synset['id'])\n",
    "            hyperonym_synset_id = synset['synsetTo']['id']\n",
    "            # print(hyperonym_synset_id)\n",
    "            return hyperonym_synset_id\n",
    "    return 0\n",
    "\n",
    "hyperonym_synset_id = find_hyperonym_synset_for_synset_id(synset_id)\n",
    "print(hyperonym_synset_id)"
   ]
  },
  {
   "cell_type": "code",
   "execution_count": 8,
   "metadata": {
    "pycharm": {
     "name": "#%%\n"
    }
   },
   "outputs": [
    {
     "name": "stdout",
     "output_type": "stream",
     "text": [
      "niepowodzenie\n"
     ]
    }
   ],
   "source": [
    "def get_lemmas_of_synset(synset_id):\n",
    "    response = requests.get('http://api.slowosiec.clarin-pl.eu/plwordnet-api/synsets/'+str(synset_id)+'/senses')\n",
    "    lemma = response.json()[0]['lemma']['word']\n",
    "    # print(lemma)\n",
    "    return lemma\n",
    "\n",
    "lemma = get_lemmas_of_synset(hyperonym_synset_id)\n",
    "print(lemma)"
   ]
  },
  {
   "cell_type": "code",
   "execution_count": 9,
   "metadata": {
    "pycharm": {
     "name": "#%%\n"
    }
   },
   "outputs": [
    {
     "name": "stdout",
     "output_type": "stream",
     "text": [
      "['wypadek drogowy', 'wypadek komunikacyjny', 'wypadek', 'zdarzenie oceniane negatywnie', 'wydarzenie']\n"
     ]
    }
   ],
   "source": [
    "word ='wypadek drogowy'\n",
    "more = False\n",
    "words = [word]\n",
    "while True:\n",
    "    word_id = get_word_id(word)\n",
    "    synset_id = get_id_of_owning_synset(word_id)\n",
    "    hyperonym_synset_id = find_hyperonym_synset_for_synset_id(synset_id)\n",
    "    new_word = get_lemmas_of_synset(hyperonym_synset_id)\n",
    "    if word == new_word:\n",
    "        break\n",
    "    word = new_word\n",
    "    words.append(word)\n",
    "print(words)"
   ]
  },
  {
   "cell_type": "code",
   "execution_count": 10,
   "metadata": {
    "pycharm": {
     "name": "#%%\n"
    }
   },
   "outputs": [
    {
     "data": {
      "text/plain": "<Figure size 432x288 with 1 Axes>",
      "image/png": "[encoded data removed]"
     },
     "metadata": {},
     "output_type": "display_data"
    }
   ],
   "source": [
    "import networkx as nx\n",
    "import matplotlib.pyplot as plt\n",
    "\n",
    "G = nx.DiGraph()\n",
    "for i in range(len(words)):\n",
    "    G.add_node(words[i])\n",
    "    if i > 0:\n",
    "        G.add_edge(words[i-1], words[i])\n",
    "\n",
    "pos = nx.circular_layout(G)\n",
    "\n",
    "nx.draw_networkx_nodes(G, pos)\n",
    "nx.draw_networkx_labels(G, pos)\n",
    "nx.draw_networkx_edges(G, pos, edge_color='r', arrows = True)\n",
    "\n",
    "plt.show()"
   ]
  },
  {
   "cell_type": "markdown",
   "metadata": {
    "pycharm": {
     "name": "#%% md\n"
    }
   },
   "source": [
    "5. Find direct **hyponyms** of _wypadek<sub>1</sub>_ noun."
   ]
  },
  {
   "cell_type": "code",
   "execution_count": 11,
   "metadata": {
    "pycharm": {
     "name": "#%%\n"
    }
   },
   "outputs": [
    {
     "name": "stdout",
     "output_type": "stream",
     "text": [
      "Sens id of wypadek1: 21890\n",
      "Synset id: 3982\n",
      "[3982, 34688, 34689, 258635, 258639, 389170, 410901, 411618, 3982, 34688, 34689, 258635, 258639, 389170, 410901, 411618]\n",
      "hiponimy:\n",
      "{'wypadek': 1, 'zawał': 1, 'tąpnięcie': 1, 'katastrofa': 1, 'wykolejenie': 1, 'zakrztuszenie': 1, 'wypadek komunikacyjny': 1, 'katastrofa budowlana': 1}\n",
      "1 wypadek\n",
      "2 zawał\n",
      "3 tąpnięcie\n",
      "4 katastrofa\n",
      "5 wykolejenie\n",
      "6 zakrztuszenie\n",
      "7 wypadek komunikacyjny\n",
      "8 katastrofa budowlana\n"
     ]
    }
   ],
   "source": [
    "word = 'wypadek'\n",
    "partOfSpeech = 'noun'\n",
    "sens_id =get_senses_ids(word, partOfSpeech)[0]\n",
    "print('Sens id of {}1: {}'.format(word, sens_id))\n",
    "\n",
    "synset_id = get_id_of_owning_synset(sens_id)\n",
    "\n",
    "\n",
    "print('Synset id: {}'.format(synset_id))\n",
    "\n",
    "def find_hyponyms_synsets_for_synset_id(synset_id):\n",
    "# the name of the relation\n",
    "    response = requests.get('http://api.slowosiec.clarin-pl.eu/plwordnet-api/synsets/'+str(synset_id)+'/relations')\n",
    "    synsets = response.json()\n",
    "    hyponyms_synsets_id = []\n",
    "    for synset in synsets:\n",
    "        # print(synset)\n",
    "        if synset['relation']['name']=='hiperonimia':\n",
    "            # print(synset['id'])\n",
    "            hyponym_synset_id = synset['synsetTo']['id']\n",
    "            # print(hyponym_synset_id)\n",
    "            hyponyms_synsets_id.append(hyponym_synset_id)\n",
    "            # return hyperonym_synset_id\n",
    "        if synset['relation']['name']=='hiponimia':\n",
    "            # print(synset['id'])\n",
    "            hyponym_synset_id = synset['synsetFrom']['id']\n",
    "            # print(hyponym_synset_id)\n",
    "            hyponyms_synsets_id.append(hyponym_synset_id)\n",
    "            # return hyperonym_synset_id\n",
    "    return hyponyms_synsets_id\n",
    "\n",
    "hyponyms_synsets_id = find_hyponyms_synsets_for_synset_id(synset_id)\n",
    "print(hyponyms_synsets_id)\n",
    "\n",
    "print('hiponimy:')\n",
    "lemmas = {}\n",
    "for synset_id in hyponyms_synsets_id:\n",
    "    lemma = get_lemmas_of_synset(synset_id)\n",
    "    if lemma not in lemmas:\n",
    "        lemmas[(lemma)] = 1\n",
    "print(lemmas)\n",
    "i=1\n",
    "for word in lemmas:\n",
    "    print(i, word)\n",
    "    i+=1\n",
    "\n",
    "# todo : liczba hiponimów nie zgadza się z liczbą z\n",
    "# http://plwordnet.pwr.wroc.pl/wordnet/44444f10-28e9-11eb-b940-23b9cbb5a1e1"
   ]
  },
  {
   "cell_type": "markdown",
   "metadata": {
    "pycharm": {
     "name": "#%% md\n"
    }
   },
   "source": [
    "6. Find second-order **hyponyms** of the same noun.\n",
    "\n",
    "\n",
    "\n",
    "7. Display as a directed graph (with labels for the edges) semantic relations between the following groups of lexemes:\n",
    "\n",
    "   i. szkoda<sub>2</sub>, strata<sub>1</sub>, uszczerbek<sub>1</sub>, szkoda majątkowa<sub>1</sub>,\n",
    "      uszczerbek na zdrowiu<sub>1</sub>, krzywda<sub>1</sub>, niesprawiedliwość<sub>1</sub>, nieszczęście<sub>2</sub>.\n",
    "\n",
    "   ii. wypadek<sub>1</sub>, wypadek komunikacyjny<sub>1</sub>, kolizja<sub>2</sub>, zderzenie<sub>2</sub>,\n",
    "      kolizja drogowa<sub>1</sub>, bezkolizyjny<sub>2</sub>, katastrofa budowlana<sub>1</sub>, wypadek\n",
    "      drogowy<sub>1</sub>.\n",
    "\n",
    "8. Find the value of [Leacock-Chodorow semantic similarity measure](ftp://www-vhost.cs.toronto.edu/public_html/public_html/pub/gh/Budanitsky+Hirst-2001.pdf)\n",
    "   between following pairs of lexemes:\n",
    "   i. szkoda<sub>2</sub> - wypadek<sub>1</sub>,\n",
    "   ii. kolizja<sub>2</sub> - szkoda majątkowa<sub>1</sub>,\n",
    "   iii. nieszczęście<sub>2</sub> - katastrofa budowlana<sub>1</sub>.\n",
    "\n",
    "9. Questions/problems:\n",
    "\n",
    "   i. What is the necessary step to use the knowlege from dictionaries such as WordNet?\n",
    "   > Konieczna jest znajomość powiązań między poszczególnymi informacjami dostępnymi przez API\n",
    "\n",
    "   ii. Assess the value of WordNet as a resource for representing the sense of sentences (not words in isolation).\n",
    "   > Do oceny znaczenia zdań przy wykorzystaniu WordNet potrzebne jest dodatkowe narzędzie niezbędne do dezambiguacji poszczególnych słów.\n",
    "\n",
    "   iii. Discuss the problmes comming from using structured knowledge resources such as WordNet.\n",
    "   > Niewłaściwe poruszanie się po strukturze może dawać błędne wyniki.\n",
    "\n",
    "\n",
    "## Hints\n",
    "\n",
    "1. WordNet is a semantic dictionary that has the following features:\n",
    "   1. it identifies **the meanings** of the words, i.e. _zamek_ in the sense of a _castle_ and _zamek_ in the sense of a  _tool_ have two distinct representations,\n",
    "   1. it describes these meaning using **semantic relations**, e.g. _zamek<sub>1</sub>_ is a **hyponym** of\n",
    "      _budynek<sub>1</sub>_ and _zamek<sub>2</sub>_ is a **hypernym** of _zatrzasku<sub>2</sub>_.\n",
    "1. The meaning of a lexeme is identified by an index, e.g. _zamek<sub>1</sub>_ identifies the first meaning and\n",
    "   _zamek<sub>2</sub>_ the second, etc.\n",
    "1. WordNet defines **lexemes** and **synsets**. The lexemes roughly correspond to words, i.e. we say that a lexeme with\n",
    "   an index _has_ a particular meaning, e.g.  _zamek<sub>2</sub>_  refers to a tool for closing things.\n",
    "   But that meaning is obtained thanks to its participation to a particular _synset_. A synset is a set of lexemes that\n",
    "   share meaning. E.g. _szkoda<sub>2</sub>_, _uszczerbek<sub>1</sub>_, _strata<sub>1</sub>_ and _utrata<sub>1</sub>_\n",
    "   belong to one synset. As a consequence the definition and most of the relations are attached to a synset, rather than\n",
    "   a lexeme. Lexemes belonging to a particular synset are called synonyms.\n",
    "1. The [webapi of WordNet](http://api.slowosiec.clarin-pl.eu/docs/index.html) might be used in the following way (I use\n",
    "   [jq](https://www.npmjs.com/package/node-jq) library to post-prcess the JSON response):\n",
    "   * `curl -X GET http://api.slowosiec.clarin-pl.eu/plwordnet-api/senses/search\\?lemma\\=gol | jq '.content[] | .id'`\n",
    "     - get all ids of senses of a given lexeme (**gol** in this example)\n",
    "   * `curl -X GET http://api.slowosiec.clarin-pl.eu/plwordnet-api/senses/1944/synset | jq .id`\n",
    "     - get id of the owning synset (for the first sense of **gol**)\n",
    "   * `curl -X GET http://api.slowosiec.clarin-pl.eu/plwordnet-api/synsets/65421/relations | jq '.[] | .synsetTo.id'`\n",
    "     - get ids of all related synsets.\n",
    "     The query ignores the type of relation and half of the results just returns the ID of the source synset.\n",
    "   * `curl -X GET http://api.slowosiec.clarin-pl.eu/plwordnet-api/synsets/65421/relations | jq '.[] | .relation.name'`\n",
    "     - return the name of the relation corresponding to the ID above.\n",
    "   * `curl -X GET http://api.slowosiec.clarin-pl.eu/plwordnet-api/synsets/285651/senses | jq '.[] | .lemma.word'`\n",
    "     - get lemmas of a given synset.\n",
    "1. The [NLTK](https://www.nltk.org/) library has an [implementation](http://www.nltk.org/howto/wordnet.html) of Leacock-Chodorow measure,\n",
    "   but it does not integrate with the Polish WordNet.\n",
    "1. The [pywnxml](https://github.com/ppke-nlpg/pywnxml) library allows for reading the Polish WordNet, but it lacks that\n",
    "   measure.\n",
    "1. The contents of the Polish WordNet may also be accessed by a [web API](http://api.slowosiec.clarin-pl.eu/docs/index.html)\n",
    "1. The [statistics](http://plwordnet.pwr.wroc.pl/wordnet/stats) of the Polish WordNet with a shorter list of relations.."
   ]
  }
 ],
 "metadata": {
  "kernelspec": {
   "display_name": "Python 3",
   "language": "python",
   "name": "python3"
  },
  "language_info": {
   "codemirror_mode": {
    "name": "ipython",
    "version": 3
   },
   "file_extension": ".py",
   "mimetype": "text/x-python",
   "name": "python",
   "nbconvert_exporter": "python",
   "pygments_lexer": "ipython3",
   "version": "3.7.7"
  }
 },
 "nbformat": 4,
 "nbformat_minor": 1
}