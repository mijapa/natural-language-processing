{
 "cells": [
  {
   "cell_type": "markdown",
   "metadata": {
    "collapsed": true,
    "pycharm": {
     "name": "#%% md\n"
    }
   },
   "source": [
    "# Named entity recognition\n",
    "\n",
    "The exercise shows how we may extract elements such as names of companies, countries and similar objects from text.\n",
    "\n",
    "## Tasks\n",
    "\n",
    "1. Read the classification of [Named Entities](http://clarin-pl.eu/pliki/warsztaty/Wyklad3-inforex-liner2.pdf).\n",
    "> Done\n",
    "2. Read the [API of NER](http://nlp.pwr.wroc.pl/redmine/projects/nlprest2/wiki) in [Clarin](http://ws.clarin-pl.eu/ner.shtml).\n",
    "> Done\n",
    "3. Read the [documentation of CLL format](http://nlp.pwr.wroc.pl/redmine/projects/corpus2/wiki/CCL_format).\n",
    "> Done\n",
    "4. Sort bills according to their size and take top 50 (largest) bills."
   ]
  },
  {
   "cell_type": "code",
   "execution_count": 29,
   "metadata": {
    "pycharm": {
     "name": "#%%\n"
    }
   },
   "outputs": [],
   "source": [
    "import os\n",
    "directory = '../ustawy/'\n",
    "files = os.listdir(directory)\n",
    "# print(files)\n",
    "files.sort(key=lambda f: os.stat(directory+f).st_size, reverse = True)\n",
    "# print(files[:50])\n",
    "files50 = files[:50]"
   ]
  },
  {
   "cell_type": "markdown",
   "metadata": {
    "pycharm": {
     "name": "#%% md\n"
    }
   },
   "source": [
    "5. Use the lemmatized and sentence split documents (from ex. 5) to identify the expressions that consist of consecutive\n",
    "   words starting with a capital letter (you will have to look at the inflected form of the word to check its\n",
    "   capitalization) that do not occupy the first position in a sentence. E.g. the sentence:\n",
    "   ```\n",
    "   Wczoraj w Krakowie miało miejsce spotaknie prezydentów Polski i Stanów Zjednoczonych.\n",
    "   ```\n",
    "   should yield the following entries: `Kraków`, `Polska`, `Stan Zjednoczony`."
   ]
  },
  {
   "cell_type": "markdown",
   "metadata": {
    "pycharm": {
     "name": "#%% md\n"
    }
   },
   "source": [
    ">$ docker run -it -p 9200:9200 apohllo/krnnt:0.1 python3 /home/krnnt/krnnt/krnnt_serve.py /home/krnnt/krnnt/data"
   ]
  },
  {
   "cell_type": "code",
   "execution_count": 17,
   "metadata": {
    "pycharm": {
     "name": "#%%\n"
    }
   },
   "outputs": [],
   "source": [
    "import requests\n",
    "import regex\n",
    "\n",
    "\n",
    "\n",
    "def lemmatize(data):\n",
    "    # data = \"Wczoraj w Krakowie miało miejsce spotaknie prezydentów Polski i Stanów Zjednoczonych Ameryki Północnej. \" \\\n",
    "    #        \"Dzisiaj w Zwierzyńcu święto Rzeczpospolitej Polskiej\".encode('utf-8')\n",
    "\n",
    "    corp = []\n",
    "    response = requests.post('http://localhost:9200', data=data)\n",
    "    text = response.text\n",
    "\n",
    "    reg = r\"(\\S*)\\t\\S*\\n\\t(\\S*)\"\n",
    "    matches = regex.finditer(reg, text)\n",
    "\n",
    "    for matchNum, match in enumerate(matches, start=1):\n",
    "        word = match.group(1)\n",
    "        lemm = match.group(2)\n",
    "        combined = [lemm, word]\n",
    "        corp.append(combined)\n",
    "\n",
    "    return corp\n",
    "\n",
    "import os\n",
    "\n",
    "def lemmatize_corpus(directory, fileList):\n",
    "    corp = []\n",
    "    for filename in fileList:\n",
    "        with open(os.path.join(directory + filename), 'r') as file:\n",
    "            infile = file.read()\n",
    "            corp_ = lemmatize(infile.encode('utf-8'))\n",
    "            corp.extend(corp_)\n",
    "            print('.', end='')\n",
    "    return corp\n",
    "\n",
    "# corp_lem = lemmatize_corpus(directory, files50)\n",
    "# print(corp_lem)"
   ]
  },
  {
   "cell_type": "code",
   "execution_count": 18,
   "metadata": {
    "pycharm": {
     "name": "#%%\n"
    }
   },
   "outputs": [],
   "source": [
    "# with open(\"corpus_lemmatized.py\", 'w') as file:\n",
    "#     file.write(\"list=\")\n",
    "#     file.write(corp_lem.__str__())"
   ]
  },
  {
   "cell_type": "code",
   "execution_count": 19,
   "metadata": {
    "pycharm": {
     "name": "#%%\n"
    }
   },
   "outputs": [],
   "source": [
    "import corpus_lemmatized\n",
    "corp_lem = corpus_lemmatized.list\n",
    "# print(corp_lem)\n"
   ]
  },
  {
   "cell_type": "code",
   "execution_count": 20,
   "metadata": {
    "pycharm": {
     "name": "#%%\n"
    }
   },
   "outputs": [],
   "source": [
    "def check_if_from_capital(corp_in):\n",
    "    corp_out = []\n",
    "    for data in corp_in:\n",
    "        if data[1].istitle():\n",
    "            corp_out.append(data[0].capitalize())\n",
    "        else:\n",
    "            corp_out.append(data[0])\n",
    "    return corp_out\n",
    "\n",
    "corp = check_if_from_capital(corp_lem)\n",
    "# print(corp)"
   ]
  },
  {
   "cell_type": "code",
   "execution_count": 21,
   "metadata": {
    "pycharm": {
     "name": "#%%\n"
    }
   },
   "outputs": [],
   "source": [
    "def find_capital_expression(corp):\n",
    "    capitals = []\n",
    "    was_title = False\n",
    "    was_dot = True\n",
    "    for t in corp:\n",
    "        # print(t)\n",
    "        if t == '.':\n",
    "            was_dot = True\n",
    "            continue\n",
    "        if t.istitle():\n",
    "            if was_dot:\n",
    "                was_dot = False\n",
    "                continue\n",
    "            # print(t)\n",
    "            if was_title:\n",
    "                last =capitals.pop()\n",
    "                if type(last)==list:\n",
    "                    capitals.append(last + [t])\n",
    "                else:\n",
    "                    capitals.append([last, t])\n",
    "            else:\n",
    "                capitals.append(t)\n",
    "                was_title = True\n",
    "        else:\n",
    "            was_title = False\n",
    "    return capitals\n",
    "\n",
    "capital_expressions = find_capital_expression(corp)\n",
    "# print(capital_expressions)"
   ]
  },
  {
   "cell_type": "markdown",
   "metadata": {
    "pycharm": {
     "name": "#%% md\n"
    }
   },
   "source": [
    "6. Compute the frequency of each identified expression and print 50 results with the largest number of occurrences."
   ]
  },
  {
   "cell_type": "code",
   "execution_count": 22,
   "metadata": {
    "pycharm": {
     "name": "#%%\n"
    }
   },
   "outputs": [],
   "source": [
    "def calculate_frequencies(capital_expressions):\n",
    "    freqs = {}\n",
    "    for cap in capital_expressions:\n",
    "        # print(cap)\n",
    "        c = ''.join(cap)\n",
    "        if c not in freqs:\n",
    "            freqs[c] = 1\n",
    "        else:\n",
    "            freqs[c] += 1\n",
    "    freqs = dict(sorted(freqs.items(), key= lambda a: a[1], reverse=True))\n",
    "    return freqs\n",
    "\n",
    "freqs = calculate_frequencies(capital_expressions)"
   ]
  },
  {
   "cell_type": "code",
   "execution_count": 23,
   "metadata": {
    "pycharm": {
     "name": "#%%\n"
    }
   },
   "outputs": [
    {
     "name": "stdout",
     "output_type": "stream",
     "text": [
      "Artykuł\n",
      "Dziennik\n",
      "RzeczpospolitaPolski\n",
      "Policja\n",
      "SkarbPaństwo\n",
      "Minister\n",
      "KasaChory\n",
      "RadaMinister\n",
      "StrażGraniczny\n",
      "UniaEuropejski\n",
      "PaństwowyStrażPożarny\n",
      "Kodeks\n",
      "Sprawiedliwość\n",
      "Polski\n",
      "PaństwowyKomisjaWyborczy\n",
      "Rada\n",
      "I\n",
      "Zakład\n",
      "ObronaNarodowy\n",
      "MinisterSprawiedliwość\n",
      "Fundusz\n",
      "Finanse\n",
      "Azot\n",
      "Europejski\n",
      "UrządPatentowy\n",
      "PrezesUrząd\n",
      "MinisterObronaNarodowy\n",
      "Pozostały\n",
      "UrządOchronaPaństwo\n",
      "Tkanina\n",
      "Państwo\n",
      "Nawóz\n",
      "Urząd\n",
      "PrezesRadaMinister\n",
      "Komendant\n",
      "Przepis\n",
      "Administracja\n",
      "EuropejskiObszarGospodarczy\n",
      "WolnyHandel\n",
      "KomisjaWyborczy\n",
      "Rozdział\n",
      "EuropejskiPorozumienie\n",
      "OpiekaSpołeczny\n",
      "Biuro\n",
      "Damski\n",
      "Maszyna\n",
      "InspektorNadzórWewnętrzny\n",
      "SądWysoki\n",
      "Chory\n",
      "MinisterFinanse\n"
     ]
    }
   ],
   "source": [
    "p_freqs = list(freqs)[:50]\n",
    "for f in p_freqs:\n",
    "    print(f)\n",
    "# print(list(freqs)[:50])"
   ]
  },
  {
   "cell_type": "markdown",
   "metadata": {
    "pycharm": {
     "name": "#%% md\n"
    }
   },
   "source": [
    "7. Apply the NER algorithm to identify the named entities in the same set of documents (not lemmatized) using the `n82` model."
   ]
  },
  {
   "cell_type": "code",
   "execution_count": 24,
   "metadata": {
    "pycharm": {
     "name": "#%%\n"
    }
   },
   "outputs": [
    {
     "name": "stdout",
     "output_type": "stream",
     "text": [
      "GLOBAL 1.430511474609375e-06 seconds.\n"
     ]
    }
   ],
   "source": [
    "user=\"michaljanpatyk@gmail.com\"\n",
    "lpmn='any2txt|wcrft2|liner2({\"model\":\"n82\"})'\n",
    "import os\n",
    "import time\n",
    "url=\"http://ws.clarin-pl.eu/nlprest2/base\"\n",
    "\n",
    "def process(data):\n",
    "    file_id = requests.post(f'{url}/upload/', data=data.encode('utf-8'),\n",
    "                            headers={'Content-Type': 'binary/octet-stream'}).text\n",
    "    task_id = requests.post(url=f'{url}/startTask/',\n",
    "                            json={'lpmn': lpmn, 'file': file_id, 'user': user},\n",
    "                            headers={'Content-Type': 'application/json'}).text\n",
    "\n",
    "    status = requests.get(url=f'{url}/getStatus/{task_id}').json()\n",
    "    while status['status'] in ('QUEUE', 'PROCESSING'):\n",
    "        print('.', end='')\n",
    "        time.sleep(0.5)\n",
    "        try:\n",
    "            status = requests.get(url=f'{url}/getStatus/{task_id}').json()\n",
    "        except:\n",
    "            status['status'] = 'PROCESSING'\n",
    "\n",
    "    if status['status'] == 'DONE' and status['value']:\n",
    "        processed_file_id = status['value'][0]['fileID']\n",
    "        return requests.get(url=f'{url}/download{processed_file_id}').text\n",
    "\n",
    "    elif status['status'] == 'ERROR':\n",
    "        print('Error: ', status['value'])\n",
    "\n",
    "def process_files(fileList, directory, out_directory):\n",
    "    global_time = time.time()\n",
    "    for filename in fileList:\n",
    "        with open(os.path.join(directory + filename), 'r') as file:\n",
    "            infile = file.read()\n",
    "        result = process(infile)\n",
    "        print('#')\n",
    "        with open(os.path.join(out_directory, filename.split('.')[0]+'.ccl'), 'w') as out_file:\n",
    "            out_file.write(result)\n",
    "    print(\"GLOBAL %s seconds.\" % (time.time() - global_time))\n",
    "\n",
    "ccl_directory = 'ccl/'\n",
    "ccl_files = files = os.listdir(ccl_directory)\n",
    "\n",
    "def check_what_was_proceded():\n",
    "    files_to_proces = files50.copy()\n",
    "    for filename in ccl_files:\n",
    "        files_to_proces.remove(filename.split('.')[0]+'.txt')\n",
    "    return files_to_proces\n",
    "\n",
    "files_to_proces = check_what_was_proceded()\n",
    "process_files(files_to_proces, directory, ccl_directory)"
   ]
  },
  {
   "cell_type": "code",
   "execution_count": 25,
   "metadata": {
    "pycharm": {
     "name": "#%%\n"
    }
   },
   "outputs": [],
   "source": [
    "# na podstawie opracowania znalezionego w sieci\n",
    "def count_categories(directory):\n",
    "    import xml.etree.ElementTree\n",
    "    from itertools import groupby\n",
    "    from collections import Counter\n",
    "    categories = {}\n",
    "    for filename in os.listdir(directory):\n",
    "        with open(os.path.join(directory, filename), 'r') as file:\n",
    "            file_xml = xml.etree.ElementTree.fromstring(file.read())\n",
    "        for sentence in file_xml.iter(tag='sentence'):\n",
    "            lexems = []\n",
    "            for lexem in sentence.iter(tag='tok'):\n",
    "                try:\n",
    "                    base = lexem.find('lex/base').text\n",
    "                except AttributeError:\n",
    "                    base = lexem.find('orth').text\n",
    "\n",
    "                interpretations = [(int(ann.text), ann.attrib['chan'], base)\n",
    "                                   for ann in lexem.iter(tag='ann')\n",
    "                                   if ann.text != '0']\n",
    "                lexems.extend(interpretations)\n",
    "            lexems.sort(key=lambda x: (x[0], x[1]))\n",
    "            for (_, minor_cat), entity_lexems in groupby(lexems, key=lambda x: (x[0], x[1])):\n",
    "                entity = ' '.join(lexem[2] for lexem in entity_lexems)\n",
    "                major_cat = \"_\".join(minor_cat.split('_')[:2])\n",
    "\n",
    "                minor_categories = categories.get(major_cat, {})\n",
    "                minor_category_counter = minor_categories.get(minor_cat, Counter())\n",
    "                minor_category_counter.update([entity])\n",
    "\n",
    "                minor_categories[minor_cat] = minor_category_counter\n",
    "                categories[major_cat] = minor_categories\n",
    "    return categories\n",
    "\n",
    "categories = count_categories(ccl_directory)\n",
    "# print(categories)"
   ]
  },
  {
   "cell_type": "markdown",
   "metadata": {
    "pycharm": {
     "name": "#%% md\n"
    }
   },
   "source": [
    "8. Plot the frequency (histogram) of the coares-grained classes (e.g. nam_adj`, `nam_eve`, `nam_fac`)."
   ]
  },
  {
   "cell_type": "code",
   "execution_count": 26,
   "metadata": {
    "pycharm": {
     "name": "#%%\n"
    }
   },
   "outputs": [
    {
     "name": "stdout",
     "output_type": "stream",
     "text": [
      "nam_pro: 3191\n",
      "nam_org: 9751\n",
      "nam_fac: 147\n",
      "nam_loc: 1537\n",
      "nam_adj: 383\n",
      "nam_eve: 30\n",
      "nam_liv: 652\n",
      "nam_oth: 557\n",
      "nam_num: 14\n"
     ]
    },
    {
     "data": {
      "image/png": "[encoded data removed]",
      "text/plain": [
       "<Figure size 432x288 with 1 Axes>"
      ]
     },
     "metadata": {
      "needs_background": "light"
     },
     "output_type": "display_data"
    }
   ],
   "source": [
    "import matplotlib.pyplot as plt\n",
    "def numbers():\n",
    "    num = 0\n",
    "    while True:\n",
    "        yield num\n",
    "        num += 1\n",
    "\n",
    "def histogram(categories):\n",
    "    ids = numbers()\n",
    "    y_pos = []\n",
    "    labels = []\n",
    "    data = []\n",
    "    for major_cat, minor_categories in categories.items():\n",
    "            y_pos.append(next(ids))\n",
    "            labels.append(major_cat)\n",
    "            quantity = 0\n",
    "            for minor_counts in minor_categories.values():\n",
    "                quantity += sum(minor_counts.values())\n",
    "            data.append(quantity)\n",
    "\n",
    "    for label, val in zip(labels, data):\n",
    "        print(f'{label}: {val}')\n",
    "\n",
    "    plt.bar(y_pos, data, align='center', alpha=0.5)\n",
    "    plt.xticks(y_pos, labels, rotation='vertical')\n",
    "    plt.xlabel('Categories names')\n",
    "    plt.ylabel('Count')\n",
    "    plt.title('Categories count')\n",
    "    plt.tight_layout()\n",
    "    plt.show()\n",
    "\n",
    "histogram(categories)"
   ]
  },
  {
   "cell_type": "markdown",
   "metadata": {
    "pycharm": {
     "name": "#%% md\n"
    }
   },
   "source": [
    "9. Display 10 most frequent Named Entities for each coarse-grained type."
   ]
  },
  {
   "cell_type": "code",
   "execution_count": 27,
   "metadata": {
    "pycharm": {
     "name": "#%%\n"
    }
   },
   "outputs": [
    {
     "name": "stdout",
     "output_type": "stream",
     "text": [
      "Top 10 for nam_pro:\n",
      "[('Dzieje_(Apostolskie) . u .', 1097),\n",
      " ('dziennik . u .', 438),\n",
      " ('dziennik . URz', 80),\n",
      " ('ordynacja podatkowy', 78),\n",
      " ('kodeks karny', 68),\n",
      " ('monitor Polska', 62),\n",
      " ('sprawa wewnętrzny', 51),\n",
      " ('kodeks postępowanie cywilny', 41),\n",
      " ('kodeks postępowanie administracyjny', 40),\n",
      " ('kodeks postępowanie karny', 36)]\n",
      "\n",
      "\n",
      "Top 10 for nam_org:\n",
      "[('skarb państwo', 410),\n",
      " ('minister sprawiedliwość', 322),\n",
      " ('unia europejski', 296),\n",
      " ('minister obrona narodowy', 287),\n",
      " ('rada minister', 279),\n",
      " ('państwowy komisja wyborczy', 267),\n",
      " ('prezes rad minister', 264),\n",
      " ('minister finanse', 234),\n",
      " ('państwowy straż pożarny', 225),\n",
      " ('prezes urząd', 201)]\n",
      "\n",
      "\n",
      "Top 10 for nam_fac:\n",
      "[('inspektor nadzór wewnętrzny', 50),\n",
      " ('komendant główny', 16),\n",
      " ('straż graniczny', 13),\n",
      " ('mangan', 8),\n",
      " ('obrona narodowy', 6),\n",
      " ('krajowy rejestr karny', 5),\n",
      " ('molibden', 4),\n",
      " ('zasłużony dawca przeszczep', 4),\n",
      " ('zatoka gdańska', 4),\n",
      " ('MN', 3)]\n",
      "\n",
      "\n",
      "Top 10 for nam_loc:\n",
      "[('rzeczpospolita polski', 812),\n",
      " ('Rzeczpospolita Polska', 91),\n",
      " ('Polska', 72),\n",
      " ('Warszawa', 70),\n",
      " ('nawóz', 28),\n",
      " ('konfederacja szwajcarski', 14),\n",
      " ('rejestr', 8),\n",
      " ('mazowiecki', 7),\n",
      " ('Londyn', 7),\n",
      " ('zakład', 6)]\n",
      "\n",
      "\n",
      "Top 10 for nam_adj:\n",
      "[('polski', 204),\n",
      " ('wojewódzki', 20),\n",
      " ('europejski', 15),\n",
      " ('mazowiecki', 7),\n",
      " ('internetowy', 5),\n",
      " ('macierzyński', 3),\n",
      " ('warszawski', 3),\n",
      " ('inowrocławski', 2),\n",
      " ('nakielski', 2),\n",
      " ('chełmiński', 2)]\n",
      "\n",
      "\n",
      "Top 10 for nam_eve:\n",
      "[('euro', 5),\n",
      " ('maksymalny limit pozostałość', 3),\n",
      " ('przejściowy plan krajowy', 2),\n",
      " ('monitor sądowy', 2),\n",
      " ('II wojna światowy', 1),\n",
      " ('wojna poległy', 1),\n",
      " ('nawóz PK', 1),\n",
      " ('top SECRET', 1),\n",
      " ('narodowy bank Polska', 1),\n",
      " ('międzynarodowy standard rachunkowość', 1)]\n",
      "\n",
      "\n",
      "Top 10 for nam_liv:\n",
      "[('kasa chora', 109),\n",
      " ('Pan', 38),\n",
      " ('straż graniczny', 36),\n",
      " ('krajowy depozyt', 25),\n",
      " ('siła zbrojny', 24),\n",
      " ('Art', 18),\n",
      " ('gospodarka żywnościowy', 16),\n",
      " ('główny inspektor', 16),\n",
      " ('najwyższy', 13),\n",
      " ('główny lekarz weterynaria', 11)]\n",
      "\n",
      "\n",
      "Top 10 for nam_oth:\n",
      "[('złoty', 334),\n",
      " ('euro', 118),\n",
      " ('PESEL', 14),\n",
      " ('bat', 11),\n",
      " ('nowy_polski_złoty', 10),\n",
      " ('minister edukacja narodowy', 8),\n",
      " ('ECU', 7),\n",
      " ('NIP', 7),\n",
      " ('VIII', 5),\n",
      " ('Internet', 5)]\n",
      "\n",
      "\n",
      "Top 10 for nam_num:\n",
      "[('1', 13), ('112', 1)]\n",
      "\n",
      "\n"
     ]
    }
   ],
   "source": [
    "from pprint import pprint\n",
    "def top_10(categories):\n",
    "    for major_cat, minor_categories in categories.items():\n",
    "        top = []\n",
    "        for minot_cat, minor_counts in minor_categories.items():\n",
    "            top.extend(minor_counts.most_common(10))\n",
    "        top.sort(key=lambda x: x[1], reverse=True)\n",
    "        print(f'Top 10 for {major_cat}:')\n",
    "        pprint(top[:10])\n",
    "        print('\\n')\n",
    "\n",
    "top_10(categories)"
   ]
  },
  {
   "cell_type": "markdown",
   "metadata": {
    "pycharm": {
     "name": "#%% md\n"
    }
   },
   "source": [
    "10. Display 50 most frequent Named Entities including their count and fine-grained type."
   ]
  },
  {
   "cell_type": "code",
   "execution_count": 28,
   "metadata": {
    "pycharm": {
     "name": "#%%\n"
    }
   },
   "outputs": [
    {
     "name": "stdout",
     "output_type": "stream",
     "text": [
      "[('Dzieje_(Apostolskie) . u .', 'nam_pro_media_periodic', 1097),\n",
      " ('rzeczpospolita polski', 'nam_loc_gpe_country', 812),\n",
      " ('dziennik . u .', 'nam_pro_media_periodic', 438),\n",
      " ('skarb państwo', 'nam_org_institution', 410),\n",
      " ('złoty', 'nam_oth_currency', 334),\n",
      " ('minister sprawiedliwość', 'nam_org_institution', 322),\n",
      " ('unia europejski', 'nam_org_organization', 296),\n",
      " ('minister obrona narodowy', 'nam_org_institution', 287),\n",
      " ('rada minister', 'nam_org_institution', 279),\n",
      " ('państwowy komisja wyborczy', 'nam_org_institution', 267),\n",
      " ('prezes rad minister', 'nam_org_institution', 264),\n",
      " ('minister finanse', 'nam_org_institution', 234),\n",
      " ('państwowy straż pożarny', 'nam_org_organization', 225),\n",
      " ('polski', 'nam_adj_country', 204),\n",
      " ('prezes urząd', 'nam_org_institution', 201),\n",
      " ('urząd patentowy', 'nam_org_institution', 196),\n",
      " ('urząd ochrona państwo', 'nam_org_institution', 181),\n",
      " ('euro', 'nam_oth_currency', 118),\n",
      " ('sąd najwyższy', 'nam_org_institution', 116),\n",
      " ('EFTA', 'nam_org_organization', 114),\n",
      " ('kasa chora', 'nam_liv_person', 109),\n",
      " ('europejski porozumienie o Wolny handel', 'nam_org_company', 103),\n",
      " ('sejm', 'nam_org_institution', 91),\n",
      " ('Rzeczpospolita Polska', 'nam_loc_gpe_country', 91),\n",
      " ('prezes urząd regulacja energetyka', 'nam_org_institution', 86),\n",
      " ('minister zdrowie i opieka społeczny', 'nam_org_institution', 82),\n",
      " ('komisja europejski', 'nam_org_institution', 82),\n",
      " ('okręgowy komisja wyborczy', 'nam_org_institution', 81),\n",
      " ('okręg', 'nam_org_organization', 81),\n",
      " ('dziennik . URz', 'nam_pro_media_periodic', 80),\n",
      " ('ordynacja podatkowy', 'nam_pro_title_document', 78),\n",
      " ('minister sprawa wewnętrzny i administracja', 'nam_org_institution', 76),\n",
      " ('komendant główny straż graniczny', 'nam_org_institution', 72),\n",
      " ('Polska', 'nam_loc_gpe_country', 72),\n",
      " ('zakład ubezpieczenie społeczny', 'nam_org_institution', 70),\n",
      " ('BSWSG', 'nam_org_organization', 70),\n",
      " ('Warszawa', 'nam_loc_gpe_city', 70),\n",
      " ('kodeks karny', 'nam_pro_title_document', 68),\n",
      " ('biuro ochrona rząd', 'nam_org_institution', 66),\n",
      " ('komendant główny policja', 'nam_org_institution', 64),\n",
      " ('monitor Polska', 'nam_pro_title', 62),\n",
      " ('wspólnota europejski', 'nam_org_organization', 61),\n",
      " ('minister skarb państwo', 'nam_org_institution', 56),\n",
      " ('w', 'nam_org_organization', 55),\n",
      " ('senat', 'nam_org_institution', 54),\n",
      " ('minister praca i polityka socjalna', 'nam_org_institution', 52),\n",
      " ('główny inspektor farmaceutyczny', 'nam_org_institution', 52),\n",
      " ('sprawa wewnętrzny', 'nam_pro_title', 51),\n",
      " ('dziennik urzędowy rzeczpospolita polski \"', 'nam_org_institution', 51),\n",
      " ('krajowy biuro wyborczy', 'nam_org_institution', 51)]\n"
     ]
    }
   ],
   "source": [
    "def top_50(categories):\n",
    "    top = []\n",
    "    for minor_categories in categories.values():\n",
    "        for minot_cat, minor_counts in minor_categories.items():\n",
    "            top.extend([(content, minot_cat, count)\n",
    "                        for content, count in minor_counts.most_common(50)])\n",
    "    top.sort(key=lambda x: x[2], reverse=True)\n",
    "    pprint(top[:50])\n",
    "\n",
    "top_50(categories)"
   ]
  },
  {
   "cell_type": "markdown",
   "metadata": {
    "pycharm": {
     "name": "#%% md\n"
    }
   },
   "source": [
    "11. Answer the following questions:\n",
    "\n",
    "   i. Which of the method (counting expressions with capital letters vs. NER) worked better for the task concerned with\n",
    "      identification of the proper names?\n",
    "   >Lepiej sprawdziła się metoda NER.\n",
    "   >Potrafiła znaleźć znacznie więcej poprawnych nazw.\n",
    "\n",
    "   ii. What are the drawbacks of the method based on capital letters?\n",
    "   >Jeśli tekst będzie lowercaseowany (np.: w wyniku translacji maszynowej) nie uda nam się rozpoznać żadnych jednostek.\n",
    "\n",
    "   iii. What are the drawbacks of the method based on NER?\n",
    "   >Długi czas przetwarzania\n",
    "   >Dużo błędnych przyporządkowań do grup.\n",
    "\n",
    "   iv. Which of the coarse-grained NER groups has the best and which has the worst results? Try to justify this\n",
    "      observation.\n",
    "   >Najgorszy rezultat miała grupa Numex. Tylko dwie znalezione jednostki.\n",
    "   >Living wypada kiepsko. Dużo znalezionych jednostek ale raczej niezgodnych z grupą.\n",
    "   >Najlepszy rezultat, moim zdaniem, ma grupa Organization.\n",
    "   >Wysoka skuteczność NER w tej grupie może wynikać z tego, że metoda Z Wielkiej Litery też dobrze rozpoznaje te jednostki.\n",
    "\n",
    "   v. Do you think NER is sufficient for identifying different occurrences of the same entity (i.e. consider \"USA\" and\n",
    "      \"Stany Zjednoczone\" and \"Stany Zjednoczone Ameryki Północnej\") ? If not, can you suggest an algorithm or a tool that\n",
    "      would be able to group such names together?\n",
    "   >NER nie jest wystarczający do rozpoznawania różnych wystąpień tego samego podmiotu.\n",
    "   >Potrzebujemy narzędzia które połączy takie wystąpienia.\n",
    "   >Być może dobrym rozwiązaniem byłoby wykorzystanie Osadzeń Słów.\n",
    "   >Jeśli wektory dla NERów byłby podobne, można by domniemywać tożsamość znaczeń.\n",
    "\n",
    "   vi. Can you think of a real world problem that would benefit the most from application of Named Entity Recognition\n",
    "      algorithm?\n",
    "   >Wydaje mi się, że tworzenie maszynowych streszczeń tekstów może być jedna z tych dziedzin które skorzystają najbardziej na rozpoznawaniu NERów.\n",
    "   >Aby streścić tekst właściwie trzeba dobrze rozpoznać temat tekstu oraz relacje między podmiotami.\n",
    "\n",
    "\n",
    "## Hints\n",
    "\n",
    "1. Named entity recognition is a process aimed at the identification of entities mentioned in text by determining their\n",
    "   scope and classifying them to a predefined type. The larger the number of types, the more difficult the problem is.\n",
    "2. Named entities are usually proper names and temporal expressions. They usually convey the most important information\n",
    "   in text.\n",
    "3. IOB format is typically used to tag names entities. The name (IOB) comes from the types of tokens (_in_, _out_, _beginning_).\n",
    "   The following example shows how the format works:\n",
    "   ```\n",
    "   W            O\n",
    "   1776         B-TIME\n",
    "   niemiecki    O\n",
    "   zoolog       O\n",
    "   Peter        B-PER\n",
    "   Simon        I-PER\n",
    "   Pallas       I-PER\n",
    "   dokonał      O\n",
    "   formalnego   O\n",
    "   ...\n",
    "   ```\n",
    "4. The set of classes used in NER is partially task dependant. Some general classes such as names of people or cities\n",
    "   are used universally, but categories such as references to law regulations is specific to legal information systems."
   ]
  }
 ],
 "metadata": {
  "kernelspec": {
   "display_name": "Python 3",
   "language": "python",
   "name": "python3"
  },
  "language_info": {
   "codemirror_mode": {
    "name": "ipython",
    "version": 3
   },
   "file_extension": ".py",
   "mimetype": "text/x-python",
   "name": "python",
   "nbconvert_exporter": "python",
   "pygments_lexer": "ipython3",
   "version": "3.7.7"
  }
 },
 "nbformat": 4,
 "nbformat_minor": 1
}
