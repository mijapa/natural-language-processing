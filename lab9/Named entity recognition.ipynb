{
 "cells": [
  {
   "cell_type": "markdown",
   "metadata": {
    "collapsed": true,
    "pycharm": {
     "name": "#%% md\n"
    }
   },
   "source": [
    "# Named entity recognition\n",
    "\n",
    "The exercise shows how we may extract elements such as names of companies, countries and similar objects from text.\n",
    "\n",
    "## Tasks\n",
    "\n",
    "1. Read the classification of [Named Entities](http://clarin-pl.eu/pliki/warsztaty/Wyklad3-inforex-liner2.pdf).\n",
    "> Done\n",
    "2. Read the [API of NER](http://nlp.pwr.wroc.pl/redmine/projects/nlprest2/wiki) in [Clarin](http://ws.clarin-pl.eu/ner.shtml).\n",
    "> Done\n",
    "3. Read the [documentation of CLL format](http://nlp.pwr.wroc.pl/redmine/projects/corpus2/wiki/CCL_format).\n",
    "> Done\n",
    "4. Sort bills according to their size and take top 50 (largest) bills."
   ]
  },
  {
   "cell_type": "code",
   "execution_count": 1,
   "outputs": [
    {
     "name": "stdout",
     "output_type": "stream",
     "text": [
      "['2004_1644.txt', '2001_1086.txt', '2000_856.txt', '1994_645.txt', '2001_452.txt', '1997_590.txt', '1995_31.txt', '2004_889.txt', '1996_602.txt', '2003_1569.txt', '1997_714.txt', '2000_1026.txt', '1996_775.txt', '2001_803.txt', '1995_208.txt', '1999_440.txt', '2001_1441.txt', '2001_1070.txt', '2004_1647.txt', '2001_1369.txt', '2002_1523.txt', '1996_776.txt', '2001_1196.txt', '1995_5.txt', '2001_166.txt', '2004_2390.txt', '2003_2259.txt', '1995_2.txt', '2002_1086.txt', '2000_545.txt', '2000_704.txt', '1997_691.txt', '1999_980.txt', '2001_1384.txt', '2001_1371.txt', '2001_745.txt', '1995_419.txt', '1996_461.txt', '2004_2135.txt', '2001_498.txt', '2000_549.txt', '2001_465.txt', '2001_1645.txt', '2003_1324.txt', '1997_776.txt', '1996_720.txt', '1997_297.txt', '1996_407.txt', '2001_1321.txt', '2001_1440.txt', '2000_1312.txt', '2001_1067.txt', '1997_154.txt', '1996_499.txt', '2001_1081.txt', '2001_1365.txt', '2001_474.txt', '2001_744.txt', '2000_178.txt', '1997_501.txt', '1997_681.txt', '2004_963.txt', '2003_1886.txt', '2003_660.txt', '2003_592.txt', '2004_1550.txt', '2000_1322.txt', '1997_554.txt', '2001_82.txt', '2001_994.txt', '1999_998.txt', '2004_1843.txt', '1997_255.txt', '1995_482.txt', '2004_2533.txt', '2004_2773.txt', '2001_1378.txt', '1999_75.txt', '1996_43.txt', '2000_1127.txt', '2000_440.txt', '1996_198.txt', '1999_96.txt', '1997_251.txt', '2001_472.txt', '2004_2702.txt', '2000_382.txt', '1996_87.txt', '2001_925.txt', '2001_1367.txt', '2001_1353.txt', '2004_572.txt', '1997_682.txt', '2001_471.txt', '2003_1664.txt', '1996_723.txt', '1999_685.txt', '2004_1907.txt', '2004_1534.txt', '2000_695.txt', '1997_722.txt', '2000_1104.txt', '2004_1265.txt', '2001_974.txt', '2000_992.txt', '2000_547.txt', '1997_498.txt', '2004_2414.txt', '1997_119.txt', '1996_489.txt', '2003_1693.txt', '1998_1118.txt', '2000_1324.txt', '2002_976.txt', '2001_1364.txt', '1996_615.txt', '1997_677.txt', '2000_180.txt', '2001_499.txt', '1997_254.txt', '1997_30.txt', '2000_548.txt', '2001_908.txt', '1999_485.txt', '1996_464.txt', '2004_1533.txt', '2003_507.txt', '2000_787.txt', '2003_1837.txt', '2000_700.txt', '2001_85.txt', '1999_936.txt', '2002_1801.txt', '1996_409.txt', '1996_44.txt', '2001_41.txt', '1995_504.txt', '1999_884.txt', '1997_471.txt', '2004_38.txt', '1996_269.txt', '2001_733.txt', '2001_475.txt', '2004_1956.txt', '2004_515.txt', '2004_2619.txt', '1997_557.txt', '1995_641.txt', '2003_1453.txt', '2000_699.txt', '2000_1315.txt', '2004_1800.txt', '1996_56.txt', '2004_2066.txt', '2003_1934.txt', '1996_584.txt', '2003_2262.txt', '1996_639.txt', '1995_654.txt', '2000_1192.txt', '1994_615.txt', '2004_959.txt', '2000_580.txt', '1999_1280.txt', '1996_140.txt', '2003_1839.txt', '2004_1001.txt', '2000_818.txt', '1996_401.txt', '1997_405.txt', '2004_2157.txt', '2004_962.txt', '2000_1167.txt', '2003_1956.txt', '2001_1071.txt', '1999_1279.txt', '1993_645.txt', '1997_753.txt', '1999_1065.txt', '2001_1403.txt', '1998_610.txt', '2001_539.txt', '1996_585.txt', '2000_1319.txt', '2000_1250.txt', '2002_731.txt', '2001_1406.txt', '2004_167.txt', '1997_506.txt', '1997_685.txt', '2003_1697.txt', '2003_2037.txt', '1998_1116.txt', '2004_255.txt', '2000_1316.txt', '1997_348.txt', '1998_1063.txt', '1997_674.txt', '2002_110.txt', '1997_97.txt', '2004_2647.txt', '1996_460.txt', '1997_569.txt', '2000_1191.txt', '2004_2405.txt', '1995_435.txt', '1997_689.txt', '1999_885.txt', '2003_819.txt', '2004_1845.txt', '2001_1401.txt', '1998_472.txt', '1997_940.txt', '1995_486.txt', '2003_1039.txt', '2000_381.txt', '2004_894.txt', '1997_604.txt', '2000_273.txt', '2003_335.txt', '1994_472.txt', '1999_1227.txt', '1999_1100.txt', '2004_2779.txt', '1996_593.txt', '1997_630.txt', '2002_1923.txt', '2002_1142.txt', '2004_594.txt', '2001_1545.txt', '2003_1692.txt', '1995_704.txt', '2004_2703.txt', '2003_1065.txt', '2004_868.txt', '1997_678.txt', '1996_474.txt', '1994_473.txt', '1997_32.txt', '1999_700.txt', '2004_890.txt', '2004_2156.txt', '1998_375.txt', '1997_505.txt', '2000_1268.txt', '2004_2784.txt', '1999_596.txt', '2003_1611.txt', '2004_1532.txt', '1997_72.txt', '1997_885.txt', '1996_465.txt', '2003_1454.txt', '1996_352.txt', '2000_484.txt', '2001_1325.txt', '1997_467.txt', '1997_778.txt', '2000_1156.txt', '1997_271.txt', '2003_2125.txt', '1999_729.txt', '2003_1590.txt', '2004_2782.txt', '2004_102.txt', '1995_617.txt', '2001_639.txt', '2000_439.txt', '2001_807.txt', '1997_591.txt', '2004_1695.txt', '2003_155.txt', '1999_1001.txt', '2004_574.txt', '1995_724.txt', '2001_1229.txt', '2001_1382.txt', '2001_1445.txt', '1997_680.txt', '1997_651.txt', '2000_696.txt', '2004_1375.txt', '1999_778.txt', '2004_876.txt', '2000_698.txt', '2002_1526.txt', '2001_21.txt', '1995_29.txt', '1997_884.txt', '1997_184.txt', '1997_496.txt', '1996_159.txt', '2000_1028.txt', '2004_535.txt', '1997_782.txt', '1999_486.txt', '2001_1444.txt', '1999_304.txt', '2004_1597.txt', '1999_400.txt', '1999_532.txt', '2004_631.txt', '1997_643.txt', '1994_385.txt', '1995_791.txt', '2001_43.txt', '2003_151.txt', '2002_1800.txt', '1995_488.txt', '1996_542.txt', '2004_796.txt', '2002_1803.txt', '1997_774.txt', '1997_945.txt', '2003_595.txt', '2003_2049.txt', '2001_83.txt', '1997_673.txt', '2003_1966.txt', '2001_1352.txt', '1996_147.txt', '1998_938.txt', '2004_1842.txt', '1997_252.txt', '2001_804.txt', '1997_507.txt', '1999_32.txt', '2001_320.txt', '2004_884.txt', '2004_2781.txt', '2004_875.txt', '2001_26.txt', '2001_1408.txt', '2001_246.txt', '2001_1116.txt', '1995_576.txt', '1995_701.txt', '1996_1.txt', '1995_427.txt', '1997_510.txt', '1996_40.txt', '1997_106.txt', '1996_400.txt', '1998_1065.txt', '2004_2776.txt', '2004_226.txt', '1996_199.txt', '2000_839.txt', '1997_555.txt', '2000_1318.txt', '2003_844.txt', '2000_488.txt', '2003_2258.txt', '2004_1291.txt', '2002_1937.txt', '1995_1.txt', '1996_267.txt', '2004_2356.txt', '2004_144.txt', '2003_1592.txt', '1999_774.txt', '1996_261.txt', '1995_629.txt', '2003_1303.txt', '1997_502.txt', '2001_1405.txt', '2004_2580.txt', '2004_1547.txt', '1995_681.txt', '2003_1850.txt', '1999_1101.txt', '2002_1067.txt', '2004_1746.txt', '2000_177.txt', '2001_1073.txt', '2000_551.txt', '2001_169.txt', '2003_1510.txt', '2004_94.txt', '2001_1074.txt', '2001_811.txt', '1997_783.txt', '2001_1379.txt', '2001_1452.txt', '2000_1320.txt', '1996_491.txt', '2004_2158.txt', '1993_646.txt', '2004_41.txt', '1997_468.txt', '2003_774.txt', '1995_143.txt', '2001_761.txt', '2000_703.txt', '2000_1189.txt', '1996_496.txt', '2004_1136.txt', '2001_749.txt', '1999_136.txt', '1998_602.txt', '1997_493.txt', '1995_434.txt', '1999_303.txt', '1995_479.txt', '1999_95.txt', '2003_2050.txt', '2004_2775.txt', '1999_762.txt', '2004_797.txt', '2004_292.txt', '2003_718.txt', '2003_1853.txt', '2001_874.txt', '2001_20.txt', '1995_59.txt', '2004_2777.txt', '2001_469.txt', '2004_1962.txt', '2004_1649.txt', '1996_721.txt', '1999_686.txt', '2003_1300.txt', '2001_537.txt', '1997_751.txt', '2001_627.txt', '2004_254.txt', '2003_1450.txt', '1997_495.txt', '1995_390.txt', '2001_858.txt', '1997_556.txt', '2000_958.txt', '2003_1864.txt', '2002_1182.txt', '2001_873.txt', '1999_305.txt', '2004_1693.txt', '2002_1569.txt', '2004_898.txt', '2000_1188.txt', '2001_1380.txt', '1997_715.txt', '1997_661.txt', '2004_42.txt', '2001_634.txt', '1995_577.txt', '1999_170.txt', '1995_121.txt', '2004_885.txt', '1994_704.txt', '2001_24.txt', '2004_2406.txt', '2000_817.txt', '1997_736.txt', '2001_1089.txt', '1994_344.txt', '1995_184.txt', '2003_1652.txt', '1997_509.txt', '2004_2352.txt', '2001_1351.txt', '1996_356.txt', '2001_1149.txt', '2001_1197.txt', '2001_906.txt', '1994_363.txt', '2004_887.txt', '2001_1088.txt', '2000_1072.txt', '2003_1061.txt', '2000_1040.txt', '1996_488.txt', '1999_1236.txt', '1996_102.txt', '2000_1166.txt', '2004_1055.txt', '1995_793.txt', '2000_546.txt', '1996_113.txt', '2004_2507.txt', '1995_152.txt', '1995_444.txt', '2001_1323.txt', '1995_439.txt', '2004_2456.txt', '1996_497.txt', '2000_1009.txt', '1995_242.txt', '2004_1536.txt', '1994_150.txt', '2003_782.txt', '1996_493.txt', '2003_1834.txt', '2001_746.txt', '2000_230.txt', '2004_880.txt', '2004_291.txt', '1994_384.txt', '2003_1591.txt', '2003_1786.txt', '2001_1366.txt', '2001_23.txt', '1997_499.txt', '1997_492.txt', '1997_726.txt', '1995_4.txt', '1998_632.txt', '1996_148.txt', '2001_1082.txt', '2001_301.txt', '2001_1194.txt', '1997_31.txt', '1995_335.txt', '1997_739.txt', '2004_68.txt', '2004_225.txt', '2000_179.txt', '2002_1689.txt', '2003_2018.txt', '1995_417.txt', '2003_1936.txt', '1994_215.txt', '2004_76.txt', '2001_1209.txt', '2001_1450.txt', '2000_1321.txt', '1998_669.txt', '2000_6.txt', '2001_1075.txt', '2004_466.txt', '2003_1787.txt', '1999_702.txt', '1997_24.txt', '1997_602.txt', '2001_1383.txt', '2000_118.txt', '2002_1731.txt', '2001_1069.txt', '1998_1125.txt', '1996_350.txt', '2001_812.txt', '2003_596.txt', '1993_599.txt', '2002_1920.txt', '2003_2217.txt', '1997_406.txt', '1994_369.txt', '2003_2263.txt', '2004_2742.txt', '2001_1438.txt', '2001_1407.txt', '1997_938.txt', '1994_670.txt', '1996_561.txt', '2004_964.txt', '2004_145.txt', '2001_1404.txt', '1997_253.txt', '2004_886.txt', '2001_64.txt', '2004_1924.txt', '2000_638.txt', '2000_5.txt', '2004_1954.txt', '2004_69.txt', '1996_494.txt', '1994_602.txt', '2001_44.txt', '2004_1801.txt', '1999_310.txt', '2000_635.txt', '2003_2273.txt', '2004_2785.txt', '2004_287.txt', '2000_238.txt', '1994_294.txt', '2003_1067.txt', '2001_1451.txt', '2001_786.txt', '2001_84.txt', '1995_729.txt', '2001_638.txt', '1997_735.txt', '2003_516.txt', '1998_716.txt', '1997_754.txt', '2003_1840.txt', '2001_1446.txt', '2003_1612.txt', '2003_661.txt', '2001_470.txt', '2001_995.txt', '2001_969.txt', '2000_443.txt', '1994_601.txt', '2004_2389.txt', '1999_528.txt', '2001_1065.txt', '2004_891.txt', '1999_461.txt', '1997_628.txt', '1998_717.txt', '2004_177.txt', '2004_148.txt', '1996_583.txt', '1998_1120.txt', '2003_2256.txt', '1998_577.txt', '2003_1750.txt', '2001_25.txt', '2002_1802.txt', '2003_2271.txt', '2004_627.txt', '1996_757.txt', '1996_459.txt', '2004_2354.txt', '1997_652.txt', '2004_77.txt', '1997_508.txt', '1998_1015.txt', '1999_903.txt', '2004_892.txt', '2001_806.txt', '1997_497.txt', '1997_943.txt', '2003_1513.txt', '2003_1958.txt', '1995_261.txt', '2000_358.txt', '1996_42.txt', '1997_780.txt', '1995_368.txt', '2001_1198.txt', '2003_1884.txt', '1999_483.txt', '1996_647.txt', '2003_1512.txt', '1997_939.txt', '1996_355.txt', '1996_367.txt', '1997_805.txt', '1994_591.txt', '2003_1302.txt', '1997_732.txt', '2001_808.txt', '1999_688.txt', '2001_1368.txt', '2000_1008.txt', '1999_1233.txt', '2004_1844.txt', '2000_239.txt', '2000_136.txt', '2004_2772.txt', '2004_576.txt', '1999_932.txt', '1997_688.txt', '1998_931.txt', '2001_764.txt', '1997_96.txt', '1995_60.txt', '1999_530.txt', '1997_650.txt', '2004_2351.txt', '2004_1955.txt', '1999_484.txt', '1994_395.txt', '1995_713.txt', '1996_406.txt', '2003_1838.txt', '2004_2407.txt', '1997_491.txt', '2000_1100.txt', '2004_626.txt', '2003_1186.txt', '1995_406.txt', '2001_18.txt', '2001_971.txt', '1997_485.txt', '2004_1980.txt', '1995_446.txt', '1995_473.txt', '2003_1268.txt', '1997_349.txt', '2000_486.txt', '2001_970.txt', '2001_734.txt', '1996_396.txt', '1998_1123.txt', '2001_784.txt', '2004_2778.txt', '1995_141.txt', '2003_2274.txt', '1994_516.txt', '2003_720.txt', '2001_1370.txt', '2004_2699.txt', '2001_167.txt', '1999_776.txt', '2001_1354.txt', '2004_1546.txt', '1997_944.txt', '2004_2455.txt', '1995_692.txt', '2001_538.txt', '1996_410.txt', '1997_882.txt', '1995_683.txt', '2004_1648.txt', '2001_1320.txt', '2004_2662.txt', '1995_310.txt', '1995_640.txt', '2001_124.txt', '1998_1019.txt', '1998_594.txt', '2001_247.txt', '1997_629.txt', '2004_2249.txt', '1994_37.txt', '2000_820.txt', '2003_1452.txt', '2004_1982.txt', '1997_118.txt', '2001_972.txt', '2003_1031.txt', '2001_1115.txt', '2001_785.txt', '1997_484.txt', '2004_1208.txt', '2000_693.txt', '1996_283.txt', '1996_603.txt', '1997_83.txt', '2001_1190.txt', '1994_195.txt', '1999_930.txt', '2000_489.txt', '1996_704.txt', '2001_610.txt', '1999_728.txt', '1996_3.txt', '1997_723.txt', '2002_1954.txt', '2000_1027.txt', '1996_680.txt', '2002_1763.txt', '1999_935.txt', '1996_110.txt', '1999_802.txt', '1997_589.txt', '2003_498.txt', '2003_1189.txt', '1996_34.txt', '2003_1069.txt', '2001_1066.txt', '2004_389.txt', '1998_1114.txt', '2004_577.txt', '2003_1507.txt', '2004_2780.txt', '2004_2386.txt', '1996_177.txt', '1997_164.txt', '1997_942.txt', '2004_1593.txt', '2003_2275.txt', '2003_2019.txt', '1998_593.txt', '2001_973.txt', '2004_2701.txt', '2001_1193.txt', '2004_2385.txt', '1997_494.txt', '1999_1256.txt', '2002_90.txt', '2001_1402.txt', '2003_153.txt', '2004_897.txt', '2001_907.txt', '2003_1873.txt', '1997_686.txt', '1996_638.txt', '2000_867.txt', '1996_703.txt', '1997_690.txt', '2004_285.txt', '2003_715.txt', '1995_221.txt', '2003_1725.txt', '1997_299.txt', '1996_722.txt', '1996_2.txt', '2000_1311.txt', '1997_777.txt', '2001_875.txt', '2001_640.txt', '2001_1439.txt', '2002_1662.txt', '2003_598.txt', '2001_762.txt', '2003_1865.txt', '2004_1568.txt', '2004_893.txt', '1996_118.txt', '1996_145.txt', '1996_773.txt', '2003_758.txt', '1999_527.txt', '2004_1205.txt', '2003_845.txt', '1996_190.txt', '2003_760.txt', '2001_679.txt', '2000_485.txt', '1999_803.txt', '2003_1304.txt', '1994_332.txt', '2004_624.txt', '1994_368.txt', '2004_1264.txt', '2004_2708.txt', '2001_92.txt', '1998_1115.txt', '1998_1062.txt', '2003_1029.txt', '1999_1255.txt', '2004_1922.txt', '2001_1381.txt', '1997_779.txt', '2001_1189.txt', '1994_214.txt', '1999_1177.txt', '2000_636.txt', '1995_792.txt', '2004_573.txt', '2000_1099.txt', '1999_1151.txt', '1997_84.txt', '1997_449.txt', '2004_2581.txt', '1996_402.txt', '2000_633.txt', '2004_625.txt', '2000_357.txt', '2004_1376.txt', '2000_819.txt', '1997_593.txt', '2003_2221.txt', '2003_962.txt', '2004_1807.txt', '1997_603.txt', '1997_153.txt', '2000_1098.txt', '2004_623.txt', '1997_163.txt', '2004_1377.txt', '1996_774.txt', '2003_2255.txt', '2001_1643.txt', '2004_2786.txt', '1996_462.txt', '1997_926.txt', '1995_515.txt', '2000_581.txt', '1996_636.txt', '2001_1546.txt', '2004_1002.txt', '2004_1808.txt', '1997_752.txt', '1997_272.txt', '2004_1805.txt', '1998_204.txt', '1997_592.txt', '2004_1262.txt', '1994_592.txt', '1998_683.txt', '2001_249.txt', '2001_1207.txt', '1996_175.txt', '1994_331.txt', '2003_452.txt', '1994_97.txt', '2001_1188.txt', '1997_734.txt', '2004_1202.txt', '2004_97.txt', '1994_536.txt', '2004_2774.txt', '2000_1216.txt', '1995_485.txt', '2000_269.txt', '2001_641.txt', '2001_1068.txt', '1995_618.txt', '2004_2353.txt', '2004_2598.txt', '1997_469.txt', '1997_676.txt', '2004_2388.txt', '1998_759.txt', '1997_370.txt', '1997_500.txt', '1994_627.txt', '2001_628.txt', '2001_876.txt', '1999_875.txt', '2003_2081.txt', '1996_495.txt', '2004_1694.txt', '1997_503.txt', '2002_1204.txt', '2003_1849.txt', '2004_2700.txt', '1997_692.txt', '1999_1281.txt', '2004_1203.txt', '1996_640.txt', '2003_1953.txt', '2001_677.txt', '1997_675.txt', '1996_678.txt', '1999_1234.txt', '2003_597.txt', '1996_475.txt', '2003_517.txt', '1997_741.txt', '2004_1925.txt', '2000_697.txt', '1995_426.txt', '1999_1107.txt', '1997_117.txt', '2001_19.txt', '1996_622.txt', '2001_1150.txt', '1998_681.txt', '2004_879.txt', '1995_164.txt', '2004_147.txt', '1999_309.txt', '2004_2067.txt', '1994_201.txt', '1996_33.txt', '1997_724.txt', '2003_2078.txt', '2003_1511.txt', '2004_575.txt', '1997_538.txt', '2000_634.txt', '2000_701.txt', '2003_2124.txt', '1996_176.txt', '2001_726.txt', '2001_1443.txt', '1995_730.txt', '1996_146.txt', '2002_1070.txt', '2000_959.txt', '2001_1363.txt', '1999_1000.txt', '2004_1923.txt', '2003_1935.txt', '2000_1314.txt', '1995_703.txt', '1997_165.txt', '2004_1981.txt', '1999_154.txt', '2001_924.txt', '2002_945.txt', '1997_270.txt', '1996_687.txt', '2001_1083.txt', '2004_2065.txt', '1996_347.txt', '2004_1645.txt', '1997_511.txt', '2001_1322.txt', '2003_423.txt', '1997_731.txt', '2001_1195.txt', '2004_219.txt', '2004_96.txt', '1996_262.txt', '2004_877.txt', '2000_117.txt', '2003_1068.txt', '1994_288.txt', '2000_354.txt', '1997_781.txt', '1996_646.txt', '1995_480.txt', '1997_642.txt', '1995_481.txt', '2003_1937.txt', '1999_548.txt', '2003_1851.txt', '1995_471.txt', '2000_702.txt', '2002_1685.txt', '2001_1442.txt', '2004_2755.txt', '2001_1324.txt', '2003_1759.txt', '1996_357.txt', '1997_932.txt', '1994_669.txt', '2004_2387.txt', '2000_555.txt', '2001_1032.txt', '2003_1325.txt', '1998_604.txt', '1999_804.txt', '2004_1646.txt', '1996_777.txt', '1997_769.txt', '2003_1852.txt', '2004_630.txt', '1999_934.txt', '1997_539.txt', '2001_1050.txt', '2004_1378.txt', '2001_509.txt', '2004_2155.txt', '2000_637.txt', '2002_1083.txt', '2004_895.txt', '2004_1263.txt', '2000_553.txt', '2001_298.txt', '2004_2355.txt', '2001_1117.txt', '1997_733.txt', '1999_801.txt', '2003_1610.txt', '1998_576.txt', '1998_471.txt', '1996_268.txt', '2003_1939.txt', '1996_621.txt', '1998_1122.txt', '2001_476.txt', '2001_424.txt', '1999_1232.txt', '1998_937.txt', '2003_2020.txt', '1999_683.txt', '2004_288.txt', '1997_740.txt', '2004_1206.txt', '1997_298.txt', '1997_553.txt', '2004_1137.txt', '1994_396.txt', '1997_738.txt', '2002_1267.txt', '2004_1535.txt', '2001_1118.txt', '2004_866.txt', '2000_85.txt', '2004_293.txt', '2004_1650.txt', '2000_383.txt', '2000_1010.txt', '2003_1123.txt', '1997_407.txt', '2003_535.txt', '2003_1661.txt', '2003_1836.txt', '2001_635.txt', '2003_1176.txt', '2000_116.txt', '2001_1087.txt', '1996_686.txt', '2003_2079.txt', '2001_636.txt', '2000_1310.txt', '1994_362.txt', '2001_423.txt', '2000_1186.txt', '2001_763.txt', '1997_775.txt', '2002_1089.txt', '1997_770.txt', '2000_986.txt', '2003_1509.txt', '1996_679.txt', '2004_256.txt', '1996_32.txt', '1997_883.txt', '2000_1251.txt', '1995_794.txt', '1996_395.txt', '1999_439.txt', '1996_128.txt', '1998_1076.txt', '1994_600.txt', '1995_684.txt', '2000_579.txt', '2000_805.txt', '2001_579.txt', '1994_419.txt', '1996_189.txt', '2001_926.txt', '1997_183.txt', '2004_1598.txt', '1997_933.txt', '2004_2426.txt', '1993_602.txt', '1995_731.txt', '2000_1103.txt', '1996_719.txt', '2001_459.txt', '1996_41.txt', '2004_883.txt', '1995_436.txt', '1999_1231.txt', '1995_472.txt', '1996_490.txt', '2004_146.txt', '2003_2276.txt', '1996_405.txt', '1995_420.txt', '1997_504.txt', '1997_470.txt', '1996_404.txt', '2001_1409.txt', '2004_622.txt', '2001_148.txt', '2001_1319.txt', '2001_678.txt', '2004_286.txt', '2000_991.txt', '1995_565.txt', '1996_498.txt', '2001_805.txt', '1997_44.txt', '2004_867.txt', '2001_1208.txt', '1995_79.txt', '2000_1249.txt', '2000_1118.txt', '1997_512.txt', '2004_1204.txt', '1999_1235.txt', '1997_152.txt', '2001_1051.txt', '2001_45.txt', '2004_1551.txt', '1997_934.txt', '2000_985.txt', '1999_135.txt', '1996_463.txt', '2001_993.txt', '1997_679.txt', '2004_1963.txt', '2004_149.txt', '2001_1080.txt', '2004_2698.txt', '2002_1681.txt', '1999_777.txt', '2004_2783.txt', '1995_334.txt', '2000_1323.txt', '2001_1084.txt', '1995_702.txt', '2000_857.txt', '1995_428.txt', '1999_1063.txt', '1997_684.txt', '2000_1107.txt', '2001_760.txt', '1997_518.txt', '2004_870.txt', '2003_1122.txt', '2000_1190.txt', '2003_2277.txt', '2001_580.txt', '1996_492.txt', '2000_28.txt', '1997_435.txt']\n",
      "['2000_696.txt', '1996_465.txt', '2001_627.txt', '1997_555.txt', '2002_1689.txt', '2000_1186.txt', '1998_1118.txt', '1997_117.txt', '2001_1070.txt', '2001_1368.txt', '1997_714.txt', '2001_499.txt', '2003_1750.txt', '2001_1545.txt', '2000_991.txt', '2001_1229.txt', '1994_195.txt', '2000_1268.txt', '2003_2277.txt', '1997_926.txt', '2000_1104.txt', '1997_553.txt', '2004_2065.txt', '2004_1693.txt', '2004_880.txt', '2004_177.txt', '2003_423.txt', '1997_349.txt', '2000_1315.txt', '1999_930.txt', '1994_591.txt', '2004_2533.txt', '1996_110.txt', '1997_557.txt', '1999_95.txt', '2001_1381.txt', '2000_136.txt', '1996_460.txt', '2001_1438.txt', '1996_561.txt', '2001_1188.txt', '2001_628.txt', '2001_475.txt', '2003_2256.txt', '1998_602.txt', '2001_906.txt', '2001_92.txt', '1996_496.txt', '1997_153.txt', '2001_1444.txt']\n"
     ]
    }
   ],
   "source": [
    "import os\n",
    "directory = '../ustawy/'\n",
    "files = os.listdir(directory)\n",
    "print(files)\n",
    "files.sort(key=lambda f: os.stat(directory+f).st_size, reverse = True)\n",
    "print(files[:50])\n",
    "files50 = files[:50]"
   ],
   "metadata": {
    "collapsed": false,
    "pycharm": {
     "name": "#%%\n"
    }
   }
  },
  {
   "cell_type": "markdown",
   "source": [
    "5. Use the lemmatized and sentence split documents (from ex. 5) to identify the expressions that consist of consecutive\n",
    "   words starting with a capital letter (you will have to look at the inflected form of the word to check its\n",
    "   capitalization) that do not occupy the first position in a sentence. E.g. the sentence:\n",
    "   ```\n",
    "   Wczoraj w Krakowie miało miejsce spotaknie prezydentów Polski i Stanów Zjednoczonych.\n",
    "   ```\n",
    "   should yield the following entries: `Kraków`, `Polska`, `Stan Zjednoczony`."
   ],
   "metadata": {
    "collapsed": false,
    "pycharm": {
     "name": "#%% md\n"
    }
   }
  },
  {
   "cell_type": "markdown",
   "source": [
    ">$ docker run -it -p 9200:9200 apohllo/krnnt:0.1 python3 /home/krnnt/krnnt/krnnt_serve.py /home/krnnt/krnnt/data"
   ],
   "metadata": {
    "collapsed": false,
    "pycharm": {
     "name": "#%% md\n"
    }
   }
  },
  {
   "cell_type": "code",
   "execution_count": 21,
   "outputs": [
    {
     "name": "stdout",
     "output_type": "stream",
     "text": [
      ".['wczoraj', 'w', 'Krak', 'mieć', 'miejsce', 'spotaknie', 'prezydent', 'Polska', 'i', 'Stany', 'Zjednoczony', '.', 'dzisiaj', 'w', 'zwierzyniec', 'świeto', 'Rzeczpospolita', 'polski']\n"
     ]
    }
   ],
   "source": [
    "import requests\n",
    "import regex\n",
    "\n",
    "\n",
    "\n",
    "def lemmatize(data):\n",
    "    data = \"Wczoraj w Krakowie miało miejsce spotaknie prezydentów Polski i Stanów Zjednoczonych.\" \\\n",
    "           \"Dzisiaj w Zwierzyńcu świeto Rzeczpospolitej Polskiej\".split(' ')\n",
    "\n",
    "    corp = []\n",
    "    for data in data:\n",
    "        response = requests.post('http://localhost:9200', data=data.encode('utf-8'))\n",
    "        text = response.text\n",
    "\n",
    "        reg = r\"(?<=\\n\\t)\\S*\\t\\w*\"\n",
    "        matches = regex.finditer(reg, text)\n",
    "\n",
    "\n",
    "        for matchNum, match in enumerate(matches, start=1):\n",
    "            spliced = match.group().split(\"\\t\")\n",
    "            combined = spliced[0]\n",
    "            corp.append(combined)\n",
    "\n",
    "    return corp\n",
    "\n",
    "import os\n",
    "\n",
    "def lemmatize_corpus(directory, fileList):\n",
    "    corp = []\n",
    "    for filename in fileList:\n",
    "        with open(os.path.join(directory + filename), 'r') as file:\n",
    "            infile = file.read()\n",
    "            corp_ = lemmatize(infile.encode('utf-8'))\n",
    "            corp.extend(corp_)\n",
    "            print('', end='.')\n",
    "    return corp\n",
    "\n",
    "corp = lemmatize_corpus(directory, files50[49:])\n",
    "print(corp)"
   ],
   "metadata": {
    "collapsed": false,
    "pycharm": {
     "name": "#%%\n"
    }
   }
  },
  {
   "cell_type": "code",
   "execution_count": 15,
   "outputs": [
    {
     "name": "stdout",
     "output_type": "stream",
     "text": [
      "Kraków\n",
      "Polska\n",
      "Stany\n",
      "Zjednoczony\n",
      "Rzeczpospolita\n",
      "None\n"
     ]
    }
   ],
   "source": [
    "def find_capital_expression(corp):\n",
    "    for t in corp:\n",
    "        # print(t)\n",
    "        if t.istitle():\n",
    "            print(t)\n",
    "\n",
    "capital = find_capital_expression(corp)\n",
    "print(capital)"
   ],
   "metadata": {
    "collapsed": false,
    "pycharm": {
     "name": "#%%\n"
    }
   }
  },
  {
   "cell_type": "markdown",
   "source": [
    "6. Compute the frequency of each identified expression and print 50 results with the largest number of occurrences.\n",
    "7. Apply the NER algorithm to identify the named entities in the same set of documents (not lemmatized) using the `n82` model.\n",
    "8. Plot the frequency (histogram) of the coares-grained classes (e.g. nam_adj`, `nam_eve`, `nam_fac`).\n",
    "9. Display 10 most frequent Named Entities for each coarse-grained type.\n",
    "10. Display 50 most frequent Named Entities including their count and fine-grained type.\n",
    "11. Answer the following questions:\n",
    "   i. Which of the method (counting expressions with capital letters vs. NER) worked better for the task concerned with\n",
    "      identification of the proper names?\n",
    "   ii. What are the drawbacks of the method based on capital letters?\n",
    "   iii. What are the drawbacks of the method based on NER?\n",
    "   iv. Which of the coarse-grained NER groups has the best and which has the worst results? Try to justify this\n",
    "      observation.\n",
    "   v. Do you think NER is sufficient for identifying different occurrences of the same entity (i.e. consider \"USA\" and\n",
    "      \"Stany Zjednoczone\" and \"Stany Zjednoczone Ameryki Północnej\") ? If not, can you suggest an algorithm or a tool that\n",
    "      would be able to group such names together?\n",
    "   vi. Can you think of a real world problem that would benefit the most from application of Named Entity Recognition\n",
    "      algorithm?\n",
    "\n",
    "## Hints\n",
    "\n",
    "1. Named entity recognition is a process aimed at the identification of entities mentioned in text by determining their\n",
    "   scope and classifying them to a predefined type. The larger the number of types, the more difficult the problem is.\n",
    "2. Named entities are usually proper names and temporal expressions. They usually convey the most important information\n",
    "   in text.\n",
    "3. IOB format is typically used to tag names entities. The name (IOB) comes from the types of tokens (_in_, _out_, _beginning_).\n",
    "   The following example shows how the format works:\n",
    "   ```\n",
    "   W            O\n",
    "   1776         B-TIME\n",
    "   niemiecki    O\n",
    "   zoolog       O\n",
    "   Peter        B-PER\n",
    "   Simon        I-PER\n",
    "   Pallas       I-PER\n",
    "   dokonał      O\n",
    "   formalnego   O\n",
    "   ...\n",
    "   ```\n",
    "4. The set of classes used in NER is partially task dependant. Some general classes such as names of people or cities\n",
    "   are used universally, but categories such as references to law regulations is specific to legal information systems."
   ],
   "metadata": {
    "collapsed": false,
    "pycharm": {
     "name": "#%% md\n"
    }
   }
  }
 ],
 "metadata": {
  "kernelspec": {
   "display_name": "Python 3",
   "language": "python",
   "name": "python3"
  },
  "language_info": {
   "codemirror_mode": {
    "name": "ipython",
    "version": 2
   },
   "file_extension": ".py",
   "mimetype": "text/x-python",
   "name": "python",
   "nbconvert_exporter": "python",
   "pygments_lexer": "ipython2",
   "version": "2.7.6"
  }
 },
 "nbformat": 4,
 "nbformat_minor": 0
}